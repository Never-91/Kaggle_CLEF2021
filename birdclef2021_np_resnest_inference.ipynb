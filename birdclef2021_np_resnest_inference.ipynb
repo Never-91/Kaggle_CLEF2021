{
 "cells": [
  {
   "cell_type": "code",
   "execution_count": 1,
   "id": "incomplete-necklace",
   "metadata": {
    "execution": {
     "iopub.execute_input": "2021-06-02T04:12:45.786776Z",
     "iopub.status.busy": "2021-06-02T04:12:45.785516Z",
     "iopub.status.idle": "2021-06-02T04:12:45.789483Z",
     "shell.execute_reply": "2021-06-02T04:12:45.788862Z",
     "shell.execute_reply.started": "2021-06-02T02:44:31.076563Z"
    },
    "papermill": {
     "duration": 0.040358,
     "end_time": "2021-06-02T04:12:45.789615",
     "exception": false,
     "start_time": "2021-06-02T04:12:45.749257",
     "status": "completed"
    },
    "tags": []
   },
   "outputs": [],
   "source": [
    "#EXP\n",
    "#threshholde= 0.35\n",
    "#weight = 0.4\n",
    "#Duration = 5\n",
    "#all fold\n",
    "#39 resnest 50 nocall\n",
    "# 224 400"
   ]
  },
  {
   "cell_type": "code",
   "execution_count": 2,
   "id": "orange-fight",
   "metadata": {
    "execution": {
     "iopub.execute_input": "2021-06-02T04:12:45.857444Z",
     "iopub.status.busy": "2021-06-02T04:12:45.856946Z",
     "iopub.status.idle": "2021-06-02T04:12:46.534310Z",
     "shell.execute_reply": "2021-06-02T04:12:46.533765Z",
     "shell.execute_reply.started": "2021-06-02T02:44:31.083901Z"
    },
    "id": "ikMF-nQSdTbF",
    "outputId": "041c6767-86ab-46e4-9b22-a4840121ecca",
    "papermill": {
     "duration": 0.713033,
     "end_time": "2021-06-02T04:12:46.534440",
     "exception": false,
     "start_time": "2021-06-02T04:12:45.821407",
     "status": "completed"
    },
    "tags": []
   },
   "outputs": [
    {
     "name": "stdout",
     "output_type": "stream",
     "text": [
      "Wed Jun  2 04:12:46 2021       \r\n",
      "+-----------------------------------------------------------------------------+\r\n",
      "| NVIDIA-SMI 450.51.06    Driver Version: 450.51.06    CUDA Version: 11.0     |\r\n",
      "|-------------------------------+----------------------+----------------------+\r\n",
      "| GPU  Name        Persistence-M| Bus-Id        Disp.A | Volatile Uncorr. ECC |\r\n",
      "| Fan  Temp  Perf  Pwr:Usage/Cap|         Memory-Usage | GPU-Util  Compute M. |\r\n",
      "|                               |                      |               MIG M. |\r\n",
      "|===============================+======================+======================|\r\n",
      "|   0  Tesla P100-PCIE...  Off  | 00000000:00:04.0 Off |                    0 |\r\n",
      "| N/A   39C    P0    27W / 250W |      0MiB / 16280MiB |      0%      Default |\r\n",
      "|                               |                      |                  N/A |\r\n",
      "+-------------------------------+----------------------+----------------------+\r\n",
      "                                                                               \r\n",
      "+-----------------------------------------------------------------------------+\r\n",
      "| Processes:                                                                  |\r\n",
      "|  GPU   GI   CI        PID   Type   Process name                  GPU Memory |\r\n",
      "|        ID   ID                                                   Usage      |\r\n",
      "|=============================================================================|\r\n",
      "|  No running processes found                                                 |\r\n",
      "+-----------------------------------------------------------------------------+\r\n"
     ]
    }
   ],
   "source": [
    "!nvidia-smi"
   ]
  },
  {
   "cell_type": "code",
   "execution_count": 3,
   "id": "canadian-appendix",
   "metadata": {
    "execution": {
     "iopub.execute_input": "2021-06-02T04:12:46.607903Z",
     "iopub.status.busy": "2021-06-02T04:12:46.604573Z",
     "iopub.status.idle": "2021-06-02T04:13:15.108513Z",
     "shell.execute_reply": "2021-06-02T04:13:15.108014Z",
     "shell.execute_reply.started": "2021-06-02T02:44:31.759093Z"
    },
    "papermill": {
     "duration": 28.541282,
     "end_time": "2021-06-02T04:13:15.108656",
     "exception": false,
     "start_time": "2021-06-02T04:12:46.567374",
     "status": "completed"
    },
    "tags": []
   },
   "outputs": [],
   "source": [
    "try:\n",
    "    import resnest\n",
    "except ModuleNotFoundError:\n",
    "    !pip install -q \"../input/resnest50-fast-package/resnest-0.0.6b20200701/resnest\""
   ]
  },
  {
   "cell_type": "code",
   "execution_count": null,
   "id": "biblical-guarantee",
   "metadata": {
    "papermill": {
     "duration": 0.03441,
     "end_time": "2021-06-02T04:13:15.179174",
     "exception": false,
     "start_time": "2021-06-02T04:13:15.144764",
     "status": "completed"
    },
    "tags": []
   },
   "outputs": [],
   "source": []
  },
  {
   "cell_type": "code",
   "execution_count": 4,
   "id": "caring-british",
   "metadata": {
    "_cell_guid": "b1076dfc-b9ad-4769-8c92-a6c4dae69d19",
    "_uuid": "8f2839f25d086af736a60e9eeb907d3b93b6e0e5",
    "execution": {
     "iopub.execute_input": "2021-06-02T04:13:15.255708Z",
     "iopub.status.busy": "2021-06-02T04:13:15.254885Z",
     "iopub.status.idle": "2021-06-02T04:13:18.938418Z",
     "shell.execute_reply": "2021-06-02T04:13:18.937961Z",
     "shell.execute_reply.started": "2021-06-02T02:45:00.650455Z"
    },
    "id": "kSCcqxf0c_O7",
    "papermill": {
     "duration": 3.724126,
     "end_time": "2021-06-02T04:13:18.938581",
     "exception": false,
     "start_time": "2021-06-02T04:13:15.214455",
     "status": "completed"
    },
    "tags": []
   },
   "outputs": [],
   "source": [
    "import numpy as np\n",
    "import librosa as lb\n",
    "import librosa.display as lbd\n",
    "import soundfile as sf\n",
    "import pandas as pd\n",
    "import cv2\n",
    "from pathlib import Path\n",
    "import re\n",
    "\n",
    "import torch\n",
    "from torch import nn\n",
    "from  torch.utils.data import Dataset, DataLoader\n",
    "\n",
    "from tqdm.notebook import tqdm\n",
    "\n",
    "import time\n",
    "from resnest.torch import resnest101\n",
    "from resnest.torch import resnest50\n",
    "#from resnest.torch import resnest50\n",
    "import cv2"
   ]
  },
  {
   "cell_type": "code",
   "execution_count": 5,
   "id": "accessory-encyclopedia",
   "metadata": {
    "execution": {
     "iopub.execute_input": "2021-06-02T04:13:19.007844Z",
     "iopub.status.busy": "2021-06-02T04:13:19.007250Z",
     "iopub.status.idle": "2021-06-02T04:13:46.318703Z",
     "shell.execute_reply": "2021-06-02T04:13:46.317801Z",
     "shell.execute_reply.started": "2021-06-02T02:45:04.37923Z"
    },
    "papermill": {
     "duration": 27.347626,
     "end_time": "2021-06-02T04:13:46.318848",
     "exception": false,
     "start_time": "2021-06-02T04:13:18.971222",
     "status": "completed"
    },
    "tags": []
   },
   "outputs": [
    {
     "name": "stdout",
     "output_type": "stream",
     "text": [
      "Processing /kaggle/input/pytorchefficientnet/EfficientNet-PyTorch-master\r\n",
      "Requirement already satisfied: torch in /opt/conda/lib/python3.7/site-packages (from efficientnet-pytorch==0.6.1) (1.7.0)\r\n",
      "Requirement already satisfied: future in /opt/conda/lib/python3.7/site-packages (from torch->efficientnet-pytorch==0.6.1) (0.18.2)\r\n",
      "Requirement already satisfied: typing_extensions in /opt/conda/lib/python3.7/site-packages (from torch->efficientnet-pytorch==0.6.1) (3.7.4.3)\r\n",
      "Requirement already satisfied: dataclasses in /opt/conda/lib/python3.7/site-packages (from torch->efficientnet-pytorch==0.6.1) (0.6)\r\n",
      "Requirement already satisfied: numpy in /opt/conda/lib/python3.7/site-packages (from torch->efficientnet-pytorch==0.6.1) (1.19.5)\r\n",
      "Building wheels for collected packages: efficientnet-pytorch\r\n",
      "  Building wheel for efficientnet-pytorch (setup.py) ... \u001b[?25l-\b \bdone\r\n",
      "\u001b[?25h  Created wheel for efficientnet-pytorch: filename=efficientnet_pytorch-0.6.1-py3-none-any.whl size=16570 sha256=af6bb8d248492650f1526acee91f0583bfbb57f3713c43f2dc66b955057fcc5f\r\n",
      "  Stored in directory: /root/.cache/pip/wheels/60/6e/67/37408498b7f8d996904785db949af7e0beaa74ecd6402be63f\r\n",
      "Successfully built efficientnet-pytorch\r\n",
      "Installing collected packages: efficientnet-pytorch\r\n",
      "Successfully installed efficientnet-pytorch-0.6.1\r\n"
     ]
    }
   ],
   "source": [
    "!pip install '../input/pytorchefficientnet/EfficientNet-PyTorch-master'"
   ]
  },
  {
   "cell_type": "code",
   "execution_count": 6,
   "id": "applicable-providence",
   "metadata": {
    "execution": {
     "iopub.execute_input": "2021-06-02T04:13:46.392298Z",
     "iopub.status.busy": "2021-06-02T04:13:46.391482Z",
     "iopub.status.idle": "2021-06-02T04:13:46.399666Z",
     "shell.execute_reply": "2021-06-02T04:13:46.399136Z",
     "shell.execute_reply.started": "2021-06-02T02:45:32.008394Z"
    },
    "papermill": {
     "duration": 0.0472,
     "end_time": "2021-06-02T04:13:46.399782",
     "exception": false,
     "start_time": "2021-06-02T04:13:46.352582",
     "status": "completed"
    },
    "tags": []
   },
   "outputs": [],
   "source": [
    "from efficientnet_pytorch import EfficientNet\n",
    "##import pretrainedmodels\n",
    "import resnest.torch as resnest_torch"
   ]
  },
  {
   "cell_type": "markdown",
   "id": "medium-canon",
   "metadata": {
    "papermill": {
     "duration": 0.034416,
     "end_time": "2021-06-02T04:13:46.470730",
     "exception": false,
     "start_time": "2021-06-02T04:13:46.436314",
     "status": "completed"
    },
    "tags": []
   },
   "source": [
    "# Configs"
   ]
  },
  {
   "cell_type": "code",
   "execution_count": 7,
   "id": "proved-latin",
   "metadata": {
    "execution": {
     "iopub.execute_input": "2021-06-02T04:13:46.598204Z",
     "iopub.status.busy": "2021-06-02T04:13:46.597521Z",
     "iopub.status.idle": "2021-06-02T04:13:46.610151Z",
     "shell.execute_reply": "2021-06-02T04:13:46.610645Z",
     "shell.execute_reply.started": "2021-06-02T02:45:32.032277Z"
    },
    "id": "rJhYZVIDc_O9",
    "papermill": {
     "duration": 0.105249,
     "end_time": "2021-06-02T04:13:46.610792",
     "exception": false,
     "start_time": "2021-06-02T04:13:46.505543",
     "status": "completed"
    },
    "tags": []
   },
   "outputs": [
    {
     "name": "stdout",
     "output_type": "stream",
     "text": [
      "DEVICE: cuda\n"
     ]
    }
   ],
   "source": [
    "NUM_CLASSES = 397\n",
    "SR = 32_000\n",
    "DURATION = 5\n",
    "THRESH=0.35\n",
    "\n",
    "\n",
    "DEVICE = torch.device(\"cuda\" if torch.cuda.is_available() else \"cpu\")\n",
    "print(\"DEVICE:\", DEVICE)\n",
    "\n",
    "TEST_AUDIO_ROOT = Path(\"../input/birdclef-2021/test_soundscapes\")\n",
    "SAMPLE_SUB_PATH = \"../input/birdclef-2021/sample_submission.csv\"\n",
    "TARGET_PATH = None\n",
    "    \n",
    "if not len(list(TEST_AUDIO_ROOT.glob(\"*.ogg\"))):\n",
    "    TEST_AUDIO_ROOT = Path(\"../input/birdclef-2021/train_soundscapes\")\n",
    "    SAMPLE_SUB_PATH = None\n",
    "    # SAMPLE_SUB_PATH = \"../input/birdclef-2021/sample_submission.csv\"\n",
    "    TARGET_PATH = Path(\"../input/birdclef-2021/train_soundscape_labels.csv\")"
   ]
  },
  {
   "cell_type": "markdown",
   "id": "advanced-spain",
   "metadata": {
    "papermill": {
     "duration": 0.034066,
     "end_time": "2021-06-02T04:13:46.680041",
     "exception": false,
     "start_time": "2021-06-02T04:13:46.645975",
     "status": "completed"
    },
    "tags": []
   },
   "source": [
    "# Data"
   ]
  },
  {
   "cell_type": "code",
   "execution_count": 8,
   "id": "ordered-validation",
   "metadata": {
    "execution": {
     "iopub.execute_input": "2021-06-02T04:13:46.756202Z",
     "iopub.status.busy": "2021-06-02T04:13:46.755415Z",
     "iopub.status.idle": "2021-06-02T04:13:46.758486Z",
     "shell.execute_reply": "2021-06-02T04:13:46.758032Z",
     "shell.execute_reply.started": "2021-06-02T02:45:32.117738Z"
    },
    "id": "4fwNhdbJc_O-",
    "papermill": {
     "duration": 0.043692,
     "end_time": "2021-06-02T04:13:46.758608",
     "exception": false,
     "start_time": "2021-06-02T04:13:46.714916",
     "status": "completed"
    },
    "tags": []
   },
   "outputs": [],
   "source": [
    "class MelSpecComputer:\n",
    "    def __init__(self, sr, n_mels, fmin, fmax, **kwargs):\n",
    "        self.sr = sr\n",
    "        self.n_mels = n_mels\n",
    "        self.fmin = fmin\n",
    "        self.fmax = fmax\n",
    "        kwargs[\"n_fft\"] = kwargs.get(\"n_fft\", self.sr//10)\n",
    "        kwargs[\"hop_length\"] = kwargs.get(\"hop_length\", self.sr//(10*4))\n",
    "        self.kwargs = kwargs\n",
    "\n",
    "    def __call__(self, y):\n",
    "\n",
    "        melspec = lb.feature.melspectrogram(\n",
    "            y, sr=self.sr, n_mels=self.n_mels, fmin=self.fmin, fmax=self.fmax, **self.kwargs,\n",
    "        )\n",
    "\n",
    "        melspec = lb.power_to_db(melspec).astype(np.float32)\n",
    "        \n",
    "        return melspec"
   ]
  },
  {
   "cell_type": "code",
   "execution_count": 9,
   "id": "lovely-guarantee",
   "metadata": {
    "execution": {
     "iopub.execute_input": "2021-06-02T04:13:46.834954Z",
     "iopub.status.busy": "2021-06-02T04:13:46.834211Z",
     "iopub.status.idle": "2021-06-02T04:13:46.836642Z",
     "shell.execute_reply": "2021-06-02T04:13:46.837130Z",
     "shell.execute_reply.started": "2021-06-02T02:45:32.137571Z"
    },
    "id": "Nk0haSTIc_O_",
    "papermill": {
     "duration": 0.044222,
     "end_time": "2021-06-02T04:13:46.837249",
     "exception": false,
     "start_time": "2021-06-02T04:13:46.793027",
     "status": "completed"
    },
    "tags": []
   },
   "outputs": [],
   "source": [
    "def mono_to_color(X, eps=1e-6, mean=None, std=None):\n",
    "    mean = mean or X.mean()\n",
    "    std = std or X.std()\n",
    "    X = (X - mean) / (std + eps)\n",
    "    \n",
    "    _min, _max = X.min(), X.max()\n",
    "\n",
    "    if (_max - _min) > eps:\n",
    "        V = np.clip(X, _min, _max)\n",
    "        V = 255 * (V - _min) / (_max - _min)\n",
    "        V = V.astype(np.uint8)\n",
    "    else:\n",
    "        V = np.zeros_like(X, dtype=np.uint8)\n",
    "\n",
    "    return V\n",
    "\n",
    "def crop_or_pad(y, length):\n",
    "    if len(y) < length:\n",
    "        y = np.concatenate([y, length - np.zeros(len(y))])\n",
    "    elif len(y) > length:\n",
    "        y = y[:length]\n",
    "    return y"
   ]
  },
  {
   "cell_type": "code",
   "execution_count": 10,
   "id": "sealed-territory",
   "metadata": {
    "execution": {
     "iopub.execute_input": "2021-06-02T04:13:46.917451Z",
     "iopub.status.busy": "2021-06-02T04:13:46.916699Z",
     "iopub.status.idle": "2021-06-02T04:13:46.919368Z",
     "shell.execute_reply": "2021-06-02T04:13:46.918980Z",
     "shell.execute_reply.started": "2021-06-02T02:45:32.160122Z"
    },
    "papermill": {
     "duration": 0.04882,
     "end_time": "2021-06-02T04:13:46.919470",
     "exception": false,
     "start_time": "2021-06-02T04:13:46.870650",
     "status": "completed"
    },
    "tags": []
   },
   "outputs": [],
   "source": [
    "class BirdCLEFDataset(Dataset):\n",
    "    def __init__(self, data, sr=SR, n_mels=128, fmin=0, fmax=None, duration=DURATION, step=None, res_type=\"kaiser_fast\", resample=True):\n",
    "        \n",
    "        self.data = data\n",
    "        \n",
    "        self.sr = sr\n",
    "        self.n_mels = n_mels\n",
    "        self.fmin = fmin\n",
    "        self.fmax = fmax or self.sr//2\n",
    "\n",
    "        self.duration = duration\n",
    "        self.audio_length = self.duration*self.sr\n",
    "        self.step = step or self.audio_length\n",
    "        \n",
    "        self.res_type = res_type\n",
    "        self.resample = resample\n",
    "\n",
    "        self.mel_spec_computer = MelSpecComputer(sr=self.sr, n_mels=self.n_mels, fmin=self.fmin,\n",
    "                                                 fmax=self.fmax)\n",
    "    def __len__(self):\n",
    "        return len(self.data)\n",
    "    \n",
    "    @staticmethod\n",
    "    def normalize(image):\n",
    "        image = image.astype(\"float32\", copy=False) / 255.0\n",
    "        image = np.stack([image, image, image])\n",
    "        return image\n",
    "    \n",
    "    def audio_to_image(self, audio):\n",
    "        melspec = self.mel_spec_computer(audio) \n",
    "        image = mono_to_color(melspec)\n",
    "        image = cv2.resize(image, (int(400), 224))\n",
    "        image = self.normalize(image)\n",
    "        return image\n",
    "\n",
    "    def read_file(self, filepath):\n",
    "        audio, orig_sr = sf.read(filepath, dtype=\"float32\")\n",
    "\n",
    "        if self.resample and orig_sr != self.sr:\n",
    "            audio = lb.resample(audio, orig_sr, self.sr, res_type=self.res_type)\n",
    "          \n",
    "        audios = []\n",
    "        for i in range(self.audio_length, len(audio) + self.step, self.step):\n",
    "            start = max(0, i - self.audio_length)\n",
    "            end = start + self.audio_length\n",
    "            audios.append(audio[start:end])\n",
    "            \n",
    "        if len(audios[-1]) < self.audio_length:\n",
    "            audios = audios[:-1]\n",
    "            \n",
    "        images = [self.audio_to_image(audio) for audio in audios]\n",
    "        images = np.stack(images)\n",
    "        \n",
    "        return images\n",
    "    \n",
    "        \n",
    "    def __getitem__(self, idx):\n",
    "        return self.read_file(self.data.loc[idx, \"filepath\"])"
   ]
  },
  {
   "cell_type": "code",
   "execution_count": 11,
   "id": "coated-portal",
   "metadata": {
    "execution": {
     "iopub.execute_input": "2021-06-02T04:13:46.991117Z",
     "iopub.status.busy": "2021-06-02T04:13:46.990572Z",
     "iopub.status.idle": "2021-06-02T04:13:47.022659Z",
     "shell.execute_reply": "2021-06-02T04:13:47.023088Z",
     "shell.execute_reply.started": "2021-06-02T02:45:32.180182Z"
    },
    "id": "rVwlOrbxc_PD",
    "outputId": "9b53ec99-634a-4b30-f9b5-75036184482b",
    "papermill": {
     "duration": 0.070393,
     "end_time": "2021-06-02T04:13:47.023233",
     "exception": false,
     "start_time": "2021-06-02T04:13:46.952840",
     "status": "completed"
    },
    "tags": []
   },
   "outputs": [
    {
     "name": "stdout",
     "output_type": "stream",
     "text": [
      "(20, 5)\n"
     ]
    },
    {
     "data": {
      "text/html": [
       "<div>\n",
       "<style scoped>\n",
       "    .dataframe tbody tr th:only-of-type {\n",
       "        vertical-align: middle;\n",
       "    }\n",
       "\n",
       "    .dataframe tbody tr th {\n",
       "        vertical-align: top;\n",
       "    }\n",
       "\n",
       "    .dataframe thead th {\n",
       "        text-align: right;\n",
       "    }\n",
       "</style>\n",
       "<table border=\"1\" class=\"dataframe\">\n",
       "  <thead>\n",
       "    <tr style=\"text-align: right;\">\n",
       "      <th></th>\n",
       "      <th>filename</th>\n",
       "      <th>id</th>\n",
       "      <th>site</th>\n",
       "      <th>date</th>\n",
       "      <th>filepath</th>\n",
       "    </tr>\n",
       "  </thead>\n",
       "  <tbody>\n",
       "    <tr>\n",
       "      <th>0</th>\n",
       "      <td>20152_SSW_20170805</td>\n",
       "      <td>20152</td>\n",
       "      <td>SSW</td>\n",
       "      <td>20170805</td>\n",
       "      <td>../input/birdclef-2021/train_soundscapes/20152...</td>\n",
       "    </tr>\n",
       "    <tr>\n",
       "      <th>1</th>\n",
       "      <td>57610_COR_20190904</td>\n",
       "      <td>57610</td>\n",
       "      <td>COR</td>\n",
       "      <td>20190904</td>\n",
       "      <td>../input/birdclef-2021/train_soundscapes/57610...</td>\n",
       "    </tr>\n",
       "    <tr>\n",
       "      <th>2</th>\n",
       "      <td>7843_SSW_20170325</td>\n",
       "      <td>7843</td>\n",
       "      <td>SSW</td>\n",
       "      <td>20170325</td>\n",
       "      <td>../input/birdclef-2021/train_soundscapes/7843_...</td>\n",
       "    </tr>\n",
       "    <tr>\n",
       "      <th>3</th>\n",
       "      <td>42907_SSW_20170708</td>\n",
       "      <td>42907</td>\n",
       "      <td>SSW</td>\n",
       "      <td>20170708</td>\n",
       "      <td>../input/birdclef-2021/train_soundscapes/42907...</td>\n",
       "    </tr>\n",
       "    <tr>\n",
       "      <th>4</th>\n",
       "      <td>7019_COR_20190904</td>\n",
       "      <td>7019</td>\n",
       "      <td>COR</td>\n",
       "      <td>20190904</td>\n",
       "      <td>../input/birdclef-2021/train_soundscapes/7019_...</td>\n",
       "    </tr>\n",
       "  </tbody>\n",
       "</table>\n",
       "</div>"
      ],
      "text/plain": [
       "             filename     id site      date  \\\n",
       "0  20152_SSW_20170805  20152  SSW  20170805   \n",
       "1  57610_COR_20190904  57610  COR  20190904   \n",
       "2   7843_SSW_20170325   7843  SSW  20170325   \n",
       "3  42907_SSW_20170708  42907  SSW  20170708   \n",
       "4   7019_COR_20190904   7019  COR  20190904   \n",
       "\n",
       "                                            filepath  \n",
       "0  ../input/birdclef-2021/train_soundscapes/20152...  \n",
       "1  ../input/birdclef-2021/train_soundscapes/57610...  \n",
       "2  ../input/birdclef-2021/train_soundscapes/7843_...  \n",
       "3  ../input/birdclef-2021/train_soundscapes/42907...  \n",
       "4  ../input/birdclef-2021/train_soundscapes/7019_...  "
      ]
     },
     "execution_count": 11,
     "metadata": {},
     "output_type": "execute_result"
    }
   ],
   "source": [
    "data = pd.DataFrame(\n",
    "     [(path.stem, *path.stem.split(\"_\"), path) for path in Path(TEST_AUDIO_ROOT).glob(\"*.ogg\")],\n",
    "    columns = [\"filename\", \"id\", \"site\", \"date\", \"filepath\"]\n",
    ")\n",
    "print(data.shape)\n",
    "data.head()"
   ]
  },
  {
   "cell_type": "code",
   "execution_count": 12,
   "id": "signed-canberra",
   "metadata": {
    "execution": {
     "iopub.execute_input": "2021-06-02T04:13:47.097652Z",
     "iopub.status.busy": "2021-06-02T04:13:47.096814Z",
     "iopub.status.idle": "2021-06-02T04:13:47.100741Z",
     "shell.execute_reply": "2021-06-02T04:13:47.100314Z",
     "shell.execute_reply.started": "2021-06-02T02:45:32.22774Z"
    },
    "papermill": {
     "duration": 0.042477,
     "end_time": "2021-06-02T04:13:47.100852",
     "exception": false,
     "start_time": "2021-06-02T04:13:47.058375",
     "status": "completed"
    },
    "tags": []
   },
   "outputs": [
    {
     "data": {
      "text/plain": [
       "'\\ndf_train = pd.read_csv(\"../input/birdclef-2021/train_metadata.csv\")\\nxx = df_train.iloc[0:1,:]\\nxx[\\'primary_label\\'] = \\'nocall\\'\\n\\ndf_train = pd.concat([df_train, df_train.iloc[0:1,:]])\\ndf_train = df_train.reset_index(drop=True)\\n\\nLABEL_IDS = {label: label_id for label_id,label in enumerate(sorted(df_train[\"primary_label\"].unique()))}\\nINV_LABEL_IDS = {val: key for key,val in LABEL_IDS.items()}\\ndf_train.tail()\\n'"
      ]
     },
     "execution_count": 12,
     "metadata": {},
     "output_type": "execute_result"
    }
   ],
   "source": [
    "'''\n",
    "df_train = pd.read_csv(\"../input/birdclef-2021/train_metadata.csv\")\n",
    "xx = df_train.iloc[0:1,:]\n",
    "xx['primary_label'] = 'nocall'\n",
    "\n",
    "df_train = pd.concat([df_train, df_train.iloc[0:1,:]])\n",
    "df_train = df_train.reset_index(drop=True)\n",
    "\n",
    "LABEL_IDS = {label: label_id for label_id,label in enumerate(sorted(df_train[\"primary_label\"].unique()))}\n",
    "INV_LABEL_IDS = {val: key for key,val in LABEL_IDS.items()}\n",
    "df_train.tail()\n",
    "'''"
   ]
  },
  {
   "cell_type": "code",
   "execution_count": 13,
   "id": "provincial-february",
   "metadata": {
    "execution": {
     "iopub.execute_input": "2021-06-02T04:13:47.177133Z",
     "iopub.status.busy": "2021-06-02T04:13:47.176630Z",
     "iopub.status.idle": "2021-06-02T04:13:47.533035Z",
     "shell.execute_reply": "2021-06-02T04:13:47.531928Z",
     "shell.execute_reply.started": "2021-06-02T02:45:32.236918Z"
    },
    "papermill": {
     "duration": 0.397492,
     "end_time": "2021-06-02T04:13:47.533170",
     "exception": false,
     "start_time": "2021-06-02T04:13:47.135678",
     "status": "completed"
    },
    "tags": []
   },
   "outputs": [],
   "source": [
    "\n",
    "df_train = pd.read_csv(\"../input/birdclef-2021/train_metadata.csv\")\n",
    "\n",
    "LABEL_IDS = {label: label_id for label_id,label in enumerate(sorted(df_train[\"primary_label\"].unique()))}\n",
    "INV_LABEL_IDS = {val: key for key,val in LABEL_IDS.items()}\n"
   ]
  },
  {
   "cell_type": "code",
   "execution_count": null,
   "id": "smooth-bicycle",
   "metadata": {
    "papermill": {
     "duration": 0.034601,
     "end_time": "2021-06-02T04:13:47.603209",
     "exception": false,
     "start_time": "2021-06-02T04:13:47.568608",
     "status": "completed"
    },
    "tags": []
   },
   "outputs": [],
   "source": []
  },
  {
   "cell_type": "markdown",
   "id": "opening-species",
   "metadata": {
    "id": "BNsivZZZc_PG",
    "papermill": {
     "duration": 0.03518,
     "end_time": "2021-06-02T04:13:47.673790",
     "exception": false,
     "start_time": "2021-06-02T04:13:47.638610",
     "status": "completed"
    },
    "tags": []
   },
   "source": [
    "# Inference"
   ]
  },
  {
   "cell_type": "code",
   "execution_count": 14,
   "id": "arbitrary-treasury",
   "metadata": {
    "execution": {
     "iopub.execute_input": "2021-06-02T04:13:47.749678Z",
     "iopub.status.busy": "2021-06-02T04:13:47.749158Z",
     "iopub.status.idle": "2021-06-02T04:13:51.522426Z",
     "shell.execute_reply": "2021-06-02T04:13:51.523839Z",
     "shell.execute_reply.started": "2021-06-02T02:45:32.619049Z"
    },
    "id": "AzlOErOmc_PH",
    "papermill": {
     "duration": 3.814768,
     "end_time": "2021-06-02T04:13:51.524168",
     "exception": false,
     "start_time": "2021-06-02T04:13:47.709400",
     "status": "completed"
    },
    "tags": []
   },
   "outputs": [
    {
     "data": {
      "text/plain": [
       "(20, (120, 3, 224, 400))"
      ]
     },
     "execution_count": 14,
     "metadata": {},
     "output_type": "execute_result"
    }
   ],
   "source": [
    "test_data = BirdCLEFDataset(data=data)\n",
    "len(test_data), test_data[0].shape"
   ]
  },
  {
   "cell_type": "code",
   "execution_count": 15,
   "id": "tender-balance",
   "metadata": {
    "execution": {
     "iopub.execute_input": "2021-06-02T04:13:51.630575Z",
     "iopub.status.busy": "2021-06-02T04:13:51.629824Z",
     "iopub.status.idle": "2021-06-02T04:13:54.750764Z",
     "shell.execute_reply": "2021-06-02T04:13:54.751183Z",
     "shell.execute_reply.started": "2021-06-02T02:45:35.763945Z"
    },
    "papermill": {
     "duration": 3.161559,
     "end_time": "2021-06-02T04:13:54.751331",
     "exception": false,
     "start_time": "2021-06-02T04:13:51.589772",
     "status": "completed"
    },
    "tags": []
   },
   "outputs": [
    {
     "data": {
      "text/plain": [
       "<matplotlib.collections.QuadMesh at 0x7f089ce31a90>"
      ]
     },
     "execution_count": 15,
     "metadata": {},
     "output_type": "execute_result"
    },
    {
     "data": {
      "image/png": "[encoded data removed]",
      "text/plain": [
       "<Figure size 432x288 with 1 Axes>"
      ]
     },
     "metadata": {},
     "output_type": "display_data"
    }
   ],
   "source": [
    "lbd.specshow(test_data[0][1][0])"
   ]
  },
  {
   "cell_type": "code",
   "execution_count": 16,
   "id": "mighty-helena",
   "metadata": {
    "execution": {
     "iopub.execute_input": "2021-06-02T04:13:54.842963Z",
     "iopub.status.busy": "2021-06-02T04:13:54.842226Z",
     "iopub.status.idle": "2021-06-02T04:13:54.844982Z",
     "shell.execute_reply": "2021-06-02T04:13:54.845341Z",
     "shell.execute_reply.started": "2021-06-02T02:45:38.818329Z"
    },
    "papermill": {
     "duration": 0.051712,
     "end_time": "2021-06-02T04:13:54.845486",
     "exception": false,
     "start_time": "2021-06-02T04:13:54.793774",
     "status": "completed"
    },
    "tags": []
   },
   "outputs": [],
   "source": [
    "def load_net(checkpoint_path, num_classes=NUM_CLASSES):\n",
    "    #net = resnest50(pretrained=False)\n",
    "    net = EfficientNet.from_name('efficientnet-b3')\n",
    "    #net.fc = nn.Linear(net.fc.in_features, num_classes)\n",
    "    nb_ft = net._fc.in_features\n",
    "    net._fc = nn.Linear(nb_ft,num_classes)\n",
    "    dummy_device = torch.device(\"cpu\")\n",
    "    d = torch.load(checkpoint_path, map_location=dummy_device)\n",
    "    for key in list(d.keys()):\n",
    "        d[key.replace(\"model.\", \"\")] = d.pop(key)\n",
    "    net.load_state_dict(d)\n",
    "    net = net.to(DEVICE)\n",
    "    net = net.eval()\n",
    "    return net\n",
    "\n",
    "def load_net_res(checkpoint_path, num_classes=NUM_CLASSES):\n",
    "    net = resnest101(pretrained=False)\n",
    "    ##net = EfficientNet.from_name('efficientnet-b4')\n",
    "    net.fc = nn.Linear(net.fc.in_features, num_classes)\n",
    "    ##nb_ft = net._fc.in_features\n",
    "    ##net._fc = nn.Linear(nb_ft,num_classes)\n",
    "    dummy_device = torch.device(\"cpu\")\n",
    "    d = torch.load(checkpoint_path, map_location=dummy_device)\n",
    "    for key in list(d.keys()):\n",
    "        d[key.replace(\"model.\", \"\")] = d.pop(key)\n",
    "    net.load_state_dict(d)\n",
    "    net = net.to(DEVICE)\n",
    "    net = net.eval()\n",
    "    return net\n",
    "\n",
    "def load_net_res50(checkpoint_path, num_classes=NUM_CLASSES):\n",
    "    net = resnest50(pretrained=False)\n",
    "    ##net = EfficientNet.from_name('efficientnet-b4')\n",
    "    net.fc = nn.Linear(net.fc.in_features, num_classes)\n",
    "    ##nb_ft = net._fc.in_features\n",
    "    ##net._fc = nn.Linear(nb_ft,num_classes)\n",
    "    dummy_device = torch.device(\"cpu\")\n",
    "    d = torch.load(checkpoint_path, map_location=dummy_device)\n",
    "    for key in list(d.keys()):\n",
    "        d[key.replace(\"model.\", \"\")] = d.pop(key)\n",
    "    net.load_state_dict(d)\n",
    "    net = net.to(DEVICE)\n",
    "    net = net.eval()\n",
    "    return net"
   ]
  },
  {
   "cell_type": "code",
   "execution_count": 17,
   "id": "protected-liverpool",
   "metadata": {
    "execution": {
     "iopub.execute_input": "2021-06-02T04:13:54.927964Z",
     "iopub.status.busy": "2021-06-02T04:13:54.927324Z",
     "iopub.status.idle": "2021-06-02T04:14:10.377678Z",
     "shell.execute_reply": "2021-06-02T04:14:10.378198Z",
     "shell.execute_reply.started": "2021-06-02T02:45:38.831396Z"
    },
    "id": "ayVLRTzLc_PI",
    "papermill": {
     "duration": 15.49539,
     "end_time": "2021-06-02T04:14:10.378347",
     "exception": false,
     "start_time": "2021-06-02T04:13:54.882957",
     "status": "completed"
    },
    "tags": []
   },
   "outputs": [
    {
     "data": {
      "text/plain": [
       "'\\ncheckpoint_paths_res = [\\n    Path(\"../input/birdcall2-21resnest101-cutmix-prima/21_resnest101_cutmix_primarl/birdclef_resnest101_fold0_epoch_37_f1_val_07114_20210516184207.pth\"),\\n    Path(\"../input/birdcall2-21resnest101-cutmix-prima/21_resnest101_cutmix_primarl/birdclef_resnest101_fold1_epoch_30_f1_val_07213_20210516202755.pth\"),\\n    Path(\"../input/birdcall2-21resnest101-cutmix-prima/21_resnest101_cutmix_primarl/birdclef_resnest101_fold2_epoch_32_f1_val_07212_20210516224253.pth\"),\\n    Path(\"../input/birdcall2-21resnest101-cutmix-prima/21_resnest101_cutmix_primarl/birdclef_resnest101_fold3_epoch_37_f1_val_07137_20210517010742.pth\"),\\n    Path(\"../input/birdcall2-21resnest101-cutmix-prima/21_resnest101_cutmix_primarl/birdclef_resnest101_fold4_epoch_36_f1_val_07198_20210517031258.pth\")\\n]\\n\\nnets_res = [\\n        load_net_res(checkpoint_path.as_posix()) for checkpoint_path in checkpoint_paths_res\\n]\\n\\n\\ncheckpoint_paths = [\\n    Path(\"../input/birdcall2-18resnest-urz-nocall/18_resnest_urz_nocall/birdclef_resnest50_fold0_epoch_28_f1_val_07136_20210515193629.pth\"),\\n    Path(\"../input/birdcall2-18resnest-urz-nocall/18_resnest_urz_nocall/birdclef_resnest50_fold1_epoch_28_f1_val_07011_20210515203356.pth\"),\\n    Path(\"../input/birdcall2-18resnest-urz-nocall/18_resnest_urz_nocall/birdclef_resnest50_fold2_epoch_29_f1_val_07069_20210515213320.pth\"),\\n    Path(\"../input/birdcall2-18resnest-urz-nocall/18_resnest_urz_nocall/birdclef_resnest50_fold3_epoch_29_f1_val_07072_20210515223052.pth\"),\\n    Path(\"../input/birdcall2-18resnest-urz-nocall/18_resnest_urz_nocall/birdclef_resnest50_fold4_epoch_29_f1_val_07104_20210515232822.pth\"),\\n]\\n\\nnets = [\\n        load_net_res50(checkpoint_path.as_posix()) for checkpoint_path in checkpoint_paths\\n]\\n\\ncheckpoint_paths_eff = [\\n    Path(\"../input/baircall2-efficientnetb3/23_efficientnet_primarly/birdclef_efficientnet-b3_fold0_epoch_29_f1_val_06729_20210518171628.pth\"),\\n    Path(\"../input/baircall2-efficientnetb3/23_efficientnet_primarly/birdclef_efficientnet-b3_fold1_epoch_28_f1_val_06797_20210518184704.pth\"),\\n    Path(\"../input/baircall2-efficientnetb3/23_efficientnet_primarly/birdclef_efficientnet-b3_fold2_epoch_29_f1_val_06819_20210518202416.pth\"),\\n    Path(\"../input/baircall2-efficientnetb3/23_efficientnet_primarly/birdclef_efficientnet-b3_fold3_epoch_29_f1_val_06726_20210518215812.pth\"),\\n    Path(\"../input/baircall2-efficientnetb3/23_efficientnet_primarly/birdclef_efficientnet-b3_fold4_epoch_29_f1_val_06723_20210518233154.pth\")\\n]\\n\\nnets_eff = [\\n        load_net(checkpoint_path.as_posix()) for checkpoint_path in checkpoint_paths_eff\\n]\\n'"
      ]
     },
     "execution_count": 17,
     "metadata": {},
     "output_type": "execute_result"
    }
   ],
   "source": [
    "\n",
    "checkpoint_paths = [\n",
    "    Path(\"../input/39-resnest50-nocall-new/39_ResNeSt50_nocall_new/birdclef_resnest50_fold0_epoch_25_f1_val_06708_20210531054439.pth\"),\n",
    "    Path(\"../input/39-resnest50-nocall-new/39_ResNeSt50_nocall_new/birdclef_resnest50_fold1_epoch_22_f1_val_06714_20210531082120.pth\"),\n",
    "    Path(\"../input/39-resnest50-nocall-new/39_ResNeSt50_nocall_new/birdclef_resnest50_fold2_epoch_26_f1_val_06670_20210531113710.pth\"),\n",
    "    Path(\"../input/39-resnest50-nocall-new/39_ResNeSt50_nocall_new/birdclef_resnest50_fold3_epoch_27_f1_val_06640_20210531060021.pth\"),\n",
    "    Path(\"../input/39-resnest50-nocall-new/39_ResNeSt50_nocall_new/birdclef_resnest50_fold4_epoch_22_f1_val_06661_20210531082529.pth\"),\n",
    "]\n",
    "\n",
    "\n",
    "nets = [\n",
    "        load_net_res50(checkpoint_path.as_posix()) for checkpoint_path in checkpoint_paths\n",
    "]\n",
    "\n",
    "'''\n",
    "checkpoint_paths_res = [\n",
    "    Path(\"../input/birdcall2-21resnest101-cutmix-prima/21_resnest101_cutmix_primarl/birdclef_resnest101_fold0_epoch_37_f1_val_07114_20210516184207.pth\"),\n",
    "    Path(\"../input/birdcall2-21resnest101-cutmix-prima/21_resnest101_cutmix_primarl/birdclef_resnest101_fold1_epoch_30_f1_val_07213_20210516202755.pth\"),\n",
    "    Path(\"../input/birdcall2-21resnest101-cutmix-prima/21_resnest101_cutmix_primarl/birdclef_resnest101_fold2_epoch_32_f1_val_07212_20210516224253.pth\"),\n",
    "    Path(\"../input/birdcall2-21resnest101-cutmix-prima/21_resnest101_cutmix_primarl/birdclef_resnest101_fold3_epoch_37_f1_val_07137_20210517010742.pth\"),\n",
    "    Path(\"../input/birdcall2-21resnest101-cutmix-prima/21_resnest101_cutmix_primarl/birdclef_resnest101_fold4_epoch_36_f1_val_07198_20210517031258.pth\")\n",
    "]\n",
    "\n",
    "nets_res = [\n",
    "        load_net_res(checkpoint_path.as_posix()) for checkpoint_path in checkpoint_paths_res\n",
    "]\n",
    "\n",
    "\n",
    "checkpoint_paths = [\n",
    "    Path(\"../input/birdcall2-18resnest-urz-nocall/18_resnest_urz_nocall/birdclef_resnest50_fold0_epoch_28_f1_val_07136_20210515193629.pth\"),\n",
    "    Path(\"../input/birdcall2-18resnest-urz-nocall/18_resnest_urz_nocall/birdclef_resnest50_fold1_epoch_28_f1_val_07011_20210515203356.pth\"),\n",
    "    Path(\"../input/birdcall2-18resnest-urz-nocall/18_resnest_urz_nocall/birdclef_resnest50_fold2_epoch_29_f1_val_07069_20210515213320.pth\"),\n",
    "    Path(\"../input/birdcall2-18resnest-urz-nocall/18_resnest_urz_nocall/birdclef_resnest50_fold3_epoch_29_f1_val_07072_20210515223052.pth\"),\n",
    "    Path(\"../input/birdcall2-18resnest-urz-nocall/18_resnest_urz_nocall/birdclef_resnest50_fold4_epoch_29_f1_val_07104_20210515232822.pth\"),\n",
    "]\n",
    "\n",
    "nets = [\n",
    "        load_net_res50(checkpoint_path.as_posix()) for checkpoint_path in checkpoint_paths\n",
    "]\n",
    "\n",
    "checkpoint_paths_eff = [\n",
    "    Path(\"../input/baircall2-efficientnetb3/23_efficientnet_primarly/birdclef_efficientnet-b3_fold0_epoch_29_f1_val_06729_20210518171628.pth\"),\n",
    "    Path(\"../input/baircall2-efficientnetb3/23_efficientnet_primarly/birdclef_efficientnet-b3_fold1_epoch_28_f1_val_06797_20210518184704.pth\"),\n",
    "    Path(\"../input/baircall2-efficientnetb3/23_efficientnet_primarly/birdclef_efficientnet-b3_fold2_epoch_29_f1_val_06819_20210518202416.pth\"),\n",
    "    Path(\"../input/baircall2-efficientnetb3/23_efficientnet_primarly/birdclef_efficientnet-b3_fold3_epoch_29_f1_val_06726_20210518215812.pth\"),\n",
    "    Path(\"../input/baircall2-efficientnetb3/23_efficientnet_primarly/birdclef_efficientnet-b3_fold4_epoch_29_f1_val_06723_20210518233154.pth\")\n",
    "]\n",
    "\n",
    "nets_eff = [\n",
    "        load_net(checkpoint_path.as_posix()) for checkpoint_path in checkpoint_paths_eff\n",
    "]\n",
    "'''"
   ]
  },
  {
   "cell_type": "code",
   "execution_count": 18,
   "id": "sonic-voluntary",
   "metadata": {
    "execution": {
     "iopub.execute_input": "2021-06-02T04:14:10.465909Z",
     "iopub.status.busy": "2021-06-02T04:14:10.463912Z",
     "iopub.status.idle": "2021-06-02T04:14:10.466608Z",
     "shell.execute_reply": "2021-06-02T04:14:10.467008Z",
     "shell.execute_reply.started": "2021-06-02T02:45:55.097715Z"
    },
    "papermill": {
     "duration": 0.048002,
     "end_time": "2021-06-02T04:14:10.467137",
     "exception": false,
     "start_time": "2021-06-02T04:14:10.419135",
     "status": "completed"
    },
    "tags": []
   },
   "outputs": [],
   "source": [
    "#print(len(nets))\n",
    "#print(len(nets_res))"
   ]
  },
  {
   "cell_type": "code",
   "execution_count": 19,
   "id": "democratic-temple",
   "metadata": {
    "execution": {
     "iopub.execute_input": "2021-06-02T04:14:10.556576Z",
     "iopub.status.busy": "2021-06-02T04:14:10.554623Z",
     "iopub.status.idle": "2021-06-02T04:14:10.557273Z",
     "shell.execute_reply": "2021-06-02T04:14:10.558170Z",
     "shell.execute_reply.started": "2021-06-02T02:45:55.102544Z"
    },
    "papermill": {
     "duration": 0.050468,
     "end_time": "2021-06-02T04:14:10.558329",
     "exception": false,
     "start_time": "2021-06-02T04:14:10.507861",
     "status": "completed"
    },
    "tags": []
   },
   "outputs": [],
   "source": [
    "@torch.no_grad()\n",
    "def get_thresh_preds(out, thresh=None):\n",
    "    thresh = thresh or THRESH\n",
    "    o = (-out).argsort(1)\n",
    "    npreds = (out > thresh).sum(1)\n",
    "    preds = []\n",
    "    for oo, npred in zip(o, npreds):\n",
    "        preds.append(oo[:npred].cpu().numpy().tolist())\n",
    "    return preds"
   ]
  },
  {
   "cell_type": "code",
   "execution_count": 20,
   "id": "smooth-commission",
   "metadata": {
    "execution": {
     "iopub.execute_input": "2021-06-02T04:14:10.650992Z",
     "iopub.status.busy": "2021-06-02T04:14:10.649150Z",
     "iopub.status.idle": "2021-06-02T04:14:10.651668Z",
     "shell.execute_reply": "2021-06-02T04:14:10.652070Z",
     "shell.execute_reply.started": "2021-06-02T02:45:55.119793Z"
    },
    "papermill": {
     "duration": 0.049611,
     "end_time": "2021-06-02T04:14:10.652201",
     "exception": false,
     "start_time": "2021-06-02T04:14:10.602590",
     "status": "completed"
    },
    "tags": []
   },
   "outputs": [],
   "source": [
    "'''\n",
    "def get_bird_names(preds):\n",
    "    bird_names = []\n",
    "    for pred in preds:\n",
    "        if not pred:\n",
    "            bird_names.append(\"-\")\n",
    "        else:\n",
    "            bird_names.append(\" \".join([INV_LABEL_IDS[bird_id] for bird_id in pred]))\n",
    "    return bird_names\n",
    "'''\n",
    "\n",
    "def get_bird_names(preds):\n",
    "    bird_names = []\n",
    "    for pred in preds:\n",
    "        if not pred:\n",
    "            bird_names.append(\"nocall\")\n",
    "        else:\n",
    "            bird_names.append(\" \".join([INV_LABEL_IDS[bird_id] for bird_id in pred]))\n",
    "    return bird_names"
   ]
  },
  {
   "cell_type": "code",
   "execution_count": null,
   "id": "agreed-brunswick",
   "metadata": {
    "papermill": {
     "duration": 0.041882,
     "end_time": "2021-06-02T04:14:10.734132",
     "exception": false,
     "start_time": "2021-06-02T04:14:10.692250",
     "status": "completed"
    },
    "tags": []
   },
   "outputs": [],
   "source": []
  },
  {
   "cell_type": "code",
   "execution_count": 21,
   "id": "literary-insulation",
   "metadata": {
    "execution": {
     "iopub.execute_input": "2021-06-02T04:14:10.825897Z",
     "iopub.status.busy": "2021-06-02T04:14:10.823802Z",
     "iopub.status.idle": "2021-06-02T04:14:10.826558Z",
     "shell.execute_reply": "2021-06-02T04:14:10.826947Z",
     "shell.execute_reply.started": "2021-06-02T02:45:55.131335Z"
    },
    "papermill": {
     "duration": 0.05216,
     "end_time": "2021-06-02T04:14:10.827100",
     "exception": false,
     "start_time": "2021-06-02T04:14:10.774940",
     "status": "completed"
    },
    "tags": []
   },
   "outputs": [],
   "source": [
    "def predict(nets, test_data, names=True):\n",
    "    preds = []\n",
    "    with torch.no_grad():\n",
    "        for idx in  tqdm(list(range(len(test_data)))):\n",
    "            xb = torch.from_numpy(test_data[idx]).to(DEVICE)\n",
    "            pred = 0.\n",
    "            for net in nets:\n",
    "                o = net(xb)\n",
    "                o = torch.sigmoid(o)\n",
    "\n",
    "                pred += o\n",
    "\n",
    "            pred /= len(nets)\n",
    "            \n",
    "            if names:\n",
    "                pred = get_bird_names(get_thresh_preds(pred))\n",
    "\n",
    "            preds.append(pred)\n",
    "    return preds"
   ]
  },
  {
   "cell_type": "code",
   "execution_count": 22,
   "id": "artistic-penny",
   "metadata": {
    "execution": {
     "iopub.execute_input": "2021-06-02T04:14:10.913292Z",
     "iopub.status.busy": "2021-06-02T04:14:10.912671Z",
     "iopub.status.idle": "2021-06-02T04:15:42.438542Z",
     "shell.execute_reply": "2021-06-02T04:15:42.438935Z",
     "shell.execute_reply.started": "2021-06-02T02:45:55.144967Z"
    },
    "papermill": {
     "duration": 91.571049,
     "end_time": "2021-06-02T04:15:42.439102",
     "exception": false,
     "start_time": "2021-06-02T04:14:10.868053",
     "status": "completed"
    },
    "tags": []
   },
   "outputs": [
    {
     "data": {
      "application/vnd.jupyter.widget-view+json": {
       "model_id": "8a89c456916e476ebc432716937808f6",
       "version_major": 2,
       "version_minor": 0
      },
      "text/plain": [
       "  0%|          | 0/20 [00:00<?, ?it/s]"
      ]
     },
     "metadata": {},
     "output_type": "display_data"
    }
   ],
   "source": [
    "pred_probas = predict(nets, test_data, names=False)\n",
    "#pred_probas_res = predict(nets_res, test_data, names=False)\n",
    "#pred_probas_eff = predict(nets_eff, test_data, names=False)\n",
    "#print(len(pred_probas))\n",
    "#print(len(pred_probas_res))"
   ]
  },
  {
   "cell_type": "code",
   "execution_count": 23,
   "id": "fancy-thanksgiving",
   "metadata": {
    "execution": {
     "iopub.execute_input": "2021-06-02T04:15:42.521373Z",
     "iopub.status.busy": "2021-06-02T04:15:42.520851Z",
     "iopub.status.idle": "2021-06-02T04:15:42.524675Z",
     "shell.execute_reply": "2021-06-02T04:15:42.524209Z",
     "shell.execute_reply.started": "2021-06-02T02:47:25.378532Z"
    },
    "papermill": {
     "duration": 0.045936,
     "end_time": "2021-06-02T04:15:42.524820",
     "exception": false,
     "start_time": "2021-06-02T04:15:42.478884",
     "status": "completed"
    },
    "tags": []
   },
   "outputs": [],
   "source": [
    "#pred_probas_res[0].max()#shape"
   ]
  },
  {
   "cell_type": "code",
   "execution_count": 24,
   "id": "headed-silicon",
   "metadata": {
    "execution": {
     "iopub.execute_input": "2021-06-02T04:15:42.605601Z",
     "iopub.status.busy": "2021-06-02T04:15:42.605051Z",
     "iopub.status.idle": "2021-06-02T04:15:42.610163Z",
     "shell.execute_reply": "2021-06-02T04:15:42.610556Z",
     "shell.execute_reply.started": "2021-06-02T02:47:25.385107Z"
    },
    "papermill": {
     "duration": 0.04731,
     "end_time": "2021-06-02T04:15:42.610681",
     "exception": false,
     "start_time": "2021-06-02T04:15:42.563371",
     "status": "completed"
    },
    "tags": []
   },
   "outputs": [
    {
     "data": {
      "text/plain": [
       "'\\nweight1 = 0.6\\n#weight2 = 0.4\\n#pred_probas_all = pred_probas\\n\\npred_probas_all = []\\n\\nfor i in range(len(pred_probas_res)):\\n    pred_probas_all.append(pred_probas[i] * weight1 + \\n                           pred_probas_res[i] * weight2 + \\n                           pred_probas_eff[i] * (1-weight1-weight2))\\n\\nfor i in range(len(pred_probas_res)):\\n    pred_probas_all.append(pred_probas[i] * weight1 + \\n                           pred_probas_res[i] * (1-weight1))\\n'"
      ]
     },
     "execution_count": 24,
     "metadata": {},
     "output_type": "execute_result"
    }
   ],
   "source": [
    "'''\n",
    "weight1 = 0.6\n",
    "#weight2 = 0.4\n",
    "#pred_probas_all = pred_probas\n",
    "\n",
    "pred_probas_all = []\n",
    "\n",
    "for i in range(len(pred_probas_res)):\n",
    "    pred_probas_all.append(pred_probas[i] * weight1 + \n",
    "                           pred_probas_res[i] * weight2 + \n",
    "                           pred_probas_eff[i] * (1-weight1-weight2))\n",
    "\n",
    "for i in range(len(pred_probas_res)):\n",
    "    pred_probas_all.append(pred_probas[i] * weight1 + \n",
    "                           pred_probas_res[i] * (1-weight1))\n",
    "'''"
   ]
  },
  {
   "cell_type": "code",
   "execution_count": 25,
   "id": "norman-humor",
   "metadata": {
    "execution": {
     "iopub.execute_input": "2021-06-02T04:15:42.693325Z",
     "iopub.status.busy": "2021-06-02T04:15:42.692579Z",
     "iopub.status.idle": "2021-06-02T04:15:42.695617Z",
     "shell.execute_reply": "2021-06-02T04:15:42.695209Z",
     "shell.execute_reply.started": "2021-06-02T02:47:25.402262Z"
    },
    "papermill": {
     "duration": 0.044755,
     "end_time": "2021-06-02T04:15:42.695723",
     "exception": false,
     "start_time": "2021-06-02T04:15:42.650968",
     "status": "completed"
    },
    "tags": []
   },
   "outputs": [],
   "source": [
    "#pred_probas_all"
   ]
  },
  {
   "cell_type": "code",
   "execution_count": 26,
   "id": "trained-relative",
   "metadata": {
    "execution": {
     "iopub.execute_input": "2021-06-02T04:15:42.777105Z",
     "iopub.status.busy": "2021-06-02T04:15:42.776592Z",
     "iopub.status.idle": "2021-06-02T04:15:43.458868Z",
     "shell.execute_reply": "2021-06-02T04:15:43.458402Z",
     "shell.execute_reply.started": "2021-06-02T02:47:25.411049Z"
    },
    "papermill": {
     "duration": 0.7249,
     "end_time": "2021-06-02T04:15:43.458996",
     "exception": false,
     "start_time": "2021-06-02T04:15:42.734096",
     "status": "completed"
    },
    "tags": []
   },
   "outputs": [],
   "source": [
    "\n",
    "preds = [get_bird_names(get_thresh_preds(pred, thresh=THRESH)) for pred in pred_probas]\n",
    "#preds[:2]"
   ]
  },
  {
   "cell_type": "code",
   "execution_count": 27,
   "id": "smart-nightlife",
   "metadata": {
    "execution": {
     "iopub.execute_input": "2021-06-02T04:15:43.544491Z",
     "iopub.status.busy": "2021-06-02T04:15:43.543654Z",
     "iopub.status.idle": "2021-06-02T04:15:43.546770Z",
     "shell.execute_reply": "2021-06-02T04:15:43.546366Z",
     "shell.execute_reply.started": "2021-06-02T02:47:26.398706Z"
    },
    "papermill": {
     "duration": 0.048482,
     "end_time": "2021-06-02T04:15:43.546889",
     "exception": false,
     "start_time": "2021-06-02T04:15:43.498407",
     "status": "completed"
    },
    "tags": []
   },
   "outputs": [],
   "source": [
    "def preds_as_df(data, preds):\n",
    "    sub = {\n",
    "        \"row_id\": [],\n",
    "        \"birds\": [],\n",
    "    }\n",
    "    \n",
    "    for row, pred in zip(data.itertuples(False), preds):\n",
    "        row_id = [f\"{row.id}_{row.site}_{5*i}\" for i in range(1, len(pred)+1)]\n",
    "        sub[\"birds\"] += pred\n",
    "        sub[\"row_id\"] += row_id\n",
    "        \n",
    "    sub = pd.DataFrame(sub)\n",
    "    \n",
    "    if SAMPLE_SUB_PATH:\n",
    "        sample_sub = pd.read_csv(SAMPLE_SUB_PATH, usecols=[\"row_id\"])\n",
    "        sub = sample_sub.merge(sub, on=\"row_id\", how=\"left\")\n",
    "        sub[\"birds\"] = sub[\"birds\"].fillna(\"nocall\")\n",
    "    return sub"
   ]
  },
  {
   "cell_type": "code",
   "execution_count": 28,
   "id": "forced-midwest",
   "metadata": {
    "execution": {
     "iopub.execute_input": "2021-06-02T04:15:43.640526Z",
     "iopub.status.busy": "2021-06-02T04:15:43.639646Z",
     "iopub.status.idle": "2021-06-02T04:15:43.644894Z",
     "shell.execute_reply": "2021-06-02T04:15:43.644481Z",
     "shell.execute_reply.started": "2021-06-02T02:47:26.407511Z"
    },
    "papermill": {
     "duration": 0.05934,
     "end_time": "2021-06-02T04:15:43.645000",
     "exception": false,
     "start_time": "2021-06-02T04:15:43.585660",
     "status": "completed"
    },
    "tags": []
   },
   "outputs": [
    {
     "name": "stdout",
     "output_type": "stream",
     "text": [
      "(2400, 2)\n"
     ]
    },
    {
     "data": {
      "text/html": [
       "<div>\n",
       "<style scoped>\n",
       "    .dataframe tbody tr th:only-of-type {\n",
       "        vertical-align: middle;\n",
       "    }\n",
       "\n",
       "    .dataframe tbody tr th {\n",
       "        vertical-align: top;\n",
       "    }\n",
       "\n",
       "    .dataframe thead th {\n",
       "        text-align: right;\n",
       "    }\n",
       "</style>\n",
       "<table border=\"1\" class=\"dataframe\">\n",
       "  <thead>\n",
       "    <tr style=\"text-align: right;\">\n",
       "      <th></th>\n",
       "      <th>row_id</th>\n",
       "      <th>birds</th>\n",
       "    </tr>\n",
       "  </thead>\n",
       "  <tbody>\n",
       "    <tr>\n",
       "      <th>0</th>\n",
       "      <td>20152_SSW_5</td>\n",
       "      <td>nocall</td>\n",
       "    </tr>\n",
       "    <tr>\n",
       "      <th>1</th>\n",
       "      <td>20152_SSW_10</td>\n",
       "      <td>nocall</td>\n",
       "    </tr>\n",
       "    <tr>\n",
       "      <th>2</th>\n",
       "      <td>20152_SSW_15</td>\n",
       "      <td>nocall</td>\n",
       "    </tr>\n",
       "    <tr>\n",
       "      <th>3</th>\n",
       "      <td>20152_SSW_20</td>\n",
       "      <td>nocall</td>\n",
       "    </tr>\n",
       "    <tr>\n",
       "      <th>4</th>\n",
       "      <td>20152_SSW_25</td>\n",
       "      <td>nocall</td>\n",
       "    </tr>\n",
       "    <tr>\n",
       "      <th>5</th>\n",
       "      <td>20152_SSW_30</td>\n",
       "      <td>nocall</td>\n",
       "    </tr>\n",
       "    <tr>\n",
       "      <th>6</th>\n",
       "      <td>20152_SSW_35</td>\n",
       "      <td>nocall</td>\n",
       "    </tr>\n",
       "    <tr>\n",
       "      <th>7</th>\n",
       "      <td>20152_SSW_40</td>\n",
       "      <td>nocall</td>\n",
       "    </tr>\n",
       "    <tr>\n",
       "      <th>8</th>\n",
       "      <td>20152_SSW_45</td>\n",
       "      <td>nocall</td>\n",
       "    </tr>\n",
       "    <tr>\n",
       "      <th>9</th>\n",
       "      <td>20152_SSW_50</td>\n",
       "      <td>nocall</td>\n",
       "    </tr>\n",
       "    <tr>\n",
       "      <th>10</th>\n",
       "      <td>20152_SSW_55</td>\n",
       "      <td>nocall</td>\n",
       "    </tr>\n",
       "    <tr>\n",
       "      <th>11</th>\n",
       "      <td>20152_SSW_60</td>\n",
       "      <td>nocall</td>\n",
       "    </tr>\n",
       "    <tr>\n",
       "      <th>12</th>\n",
       "      <td>20152_SSW_65</td>\n",
       "      <td>nocall</td>\n",
       "    </tr>\n",
       "    <tr>\n",
       "      <th>13</th>\n",
       "      <td>20152_SSW_70</td>\n",
       "      <td>nocall</td>\n",
       "    </tr>\n",
       "    <tr>\n",
       "      <th>14</th>\n",
       "      <td>20152_SSW_75</td>\n",
       "      <td>nocall</td>\n",
       "    </tr>\n",
       "    <tr>\n",
       "      <th>15</th>\n",
       "      <td>20152_SSW_80</td>\n",
       "      <td>nocall</td>\n",
       "    </tr>\n",
       "    <tr>\n",
       "      <th>16</th>\n",
       "      <td>20152_SSW_85</td>\n",
       "      <td>nocall</td>\n",
       "    </tr>\n",
       "    <tr>\n",
       "      <th>17</th>\n",
       "      <td>20152_SSW_90</td>\n",
       "      <td>nocall</td>\n",
       "    </tr>\n",
       "    <tr>\n",
       "      <th>18</th>\n",
       "      <td>20152_SSW_95</td>\n",
       "      <td>nocall</td>\n",
       "    </tr>\n",
       "    <tr>\n",
       "      <th>19</th>\n",
       "      <td>20152_SSW_100</td>\n",
       "      <td>nocall</td>\n",
       "    </tr>\n",
       "    <tr>\n",
       "      <th>20</th>\n",
       "      <td>20152_SSW_105</td>\n",
       "      <td>nocall</td>\n",
       "    </tr>\n",
       "    <tr>\n",
       "      <th>21</th>\n",
       "      <td>20152_SSW_110</td>\n",
       "      <td>nocall</td>\n",
       "    </tr>\n",
       "    <tr>\n",
       "      <th>22</th>\n",
       "      <td>20152_SSW_115</td>\n",
       "      <td>nocall</td>\n",
       "    </tr>\n",
       "    <tr>\n",
       "      <th>23</th>\n",
       "      <td>20152_SSW_120</td>\n",
       "      <td>nocall</td>\n",
       "    </tr>\n",
       "    <tr>\n",
       "      <th>24</th>\n",
       "      <td>20152_SSW_125</td>\n",
       "      <td>nocall</td>\n",
       "    </tr>\n",
       "    <tr>\n",
       "      <th>25</th>\n",
       "      <td>20152_SSW_130</td>\n",
       "      <td>nocall</td>\n",
       "    </tr>\n",
       "    <tr>\n",
       "      <th>26</th>\n",
       "      <td>20152_SSW_135</td>\n",
       "      <td>nocall</td>\n",
       "    </tr>\n",
       "    <tr>\n",
       "      <th>27</th>\n",
       "      <td>20152_SSW_140</td>\n",
       "      <td>nocall</td>\n",
       "    </tr>\n",
       "    <tr>\n",
       "      <th>28</th>\n",
       "      <td>20152_SSW_145</td>\n",
       "      <td>nocall</td>\n",
       "    </tr>\n",
       "    <tr>\n",
       "      <th>29</th>\n",
       "      <td>20152_SSW_150</td>\n",
       "      <td>nocall</td>\n",
       "    </tr>\n",
       "    <tr>\n",
       "      <th>30</th>\n",
       "      <td>20152_SSW_155</td>\n",
       "      <td>nocall</td>\n",
       "    </tr>\n",
       "    <tr>\n",
       "      <th>31</th>\n",
       "      <td>20152_SSW_160</td>\n",
       "      <td>nocall</td>\n",
       "    </tr>\n",
       "    <tr>\n",
       "      <th>32</th>\n",
       "      <td>20152_SSW_165</td>\n",
       "      <td>nocall</td>\n",
       "    </tr>\n",
       "    <tr>\n",
       "      <th>33</th>\n",
       "      <td>20152_SSW_170</td>\n",
       "      <td>nocall</td>\n",
       "    </tr>\n",
       "    <tr>\n",
       "      <th>34</th>\n",
       "      <td>20152_SSW_175</td>\n",
       "      <td>nocall</td>\n",
       "    </tr>\n",
       "    <tr>\n",
       "      <th>35</th>\n",
       "      <td>20152_SSW_180</td>\n",
       "      <td>nocall</td>\n",
       "    </tr>\n",
       "    <tr>\n",
       "      <th>36</th>\n",
       "      <td>20152_SSW_185</td>\n",
       "      <td>nocall</td>\n",
       "    </tr>\n",
       "    <tr>\n",
       "      <th>37</th>\n",
       "      <td>20152_SSW_190</td>\n",
       "      <td>nocall</td>\n",
       "    </tr>\n",
       "    <tr>\n",
       "      <th>38</th>\n",
       "      <td>20152_SSW_195</td>\n",
       "      <td>nocall</td>\n",
       "    </tr>\n",
       "    <tr>\n",
       "      <th>39</th>\n",
       "      <td>20152_SSW_200</td>\n",
       "      <td>nocall</td>\n",
       "    </tr>\n",
       "    <tr>\n",
       "      <th>40</th>\n",
       "      <td>20152_SSW_205</td>\n",
       "      <td>nocall</td>\n",
       "    </tr>\n",
       "    <tr>\n",
       "      <th>41</th>\n",
       "      <td>20152_SSW_210</td>\n",
       "      <td>nocall</td>\n",
       "    </tr>\n",
       "    <tr>\n",
       "      <th>42</th>\n",
       "      <td>20152_SSW_215</td>\n",
       "      <td>nocall</td>\n",
       "    </tr>\n",
       "    <tr>\n",
       "      <th>43</th>\n",
       "      <td>20152_SSW_220</td>\n",
       "      <td>nocall</td>\n",
       "    </tr>\n",
       "    <tr>\n",
       "      <th>44</th>\n",
       "      <td>20152_SSW_225</td>\n",
       "      <td>nocall</td>\n",
       "    </tr>\n",
       "    <tr>\n",
       "      <th>45</th>\n",
       "      <td>20152_SSW_230</td>\n",
       "      <td>nocall</td>\n",
       "    </tr>\n",
       "    <tr>\n",
       "      <th>46</th>\n",
       "      <td>20152_SSW_235</td>\n",
       "      <td>nocall</td>\n",
       "    </tr>\n",
       "    <tr>\n",
       "      <th>47</th>\n",
       "      <td>20152_SSW_240</td>\n",
       "      <td>nocall</td>\n",
       "    </tr>\n",
       "    <tr>\n",
       "      <th>48</th>\n",
       "      <td>20152_SSW_245</td>\n",
       "      <td>nocall</td>\n",
       "    </tr>\n",
       "    <tr>\n",
       "      <th>49</th>\n",
       "      <td>20152_SSW_250</td>\n",
       "      <td>nocall</td>\n",
       "    </tr>\n",
       "  </tbody>\n",
       "</table>\n",
       "</div>"
      ],
      "text/plain": [
       "           row_id   birds\n",
       "0     20152_SSW_5  nocall\n",
       "1    20152_SSW_10  nocall\n",
       "2    20152_SSW_15  nocall\n",
       "3    20152_SSW_20  nocall\n",
       "4    20152_SSW_25  nocall\n",
       "5    20152_SSW_30  nocall\n",
       "6    20152_SSW_35  nocall\n",
       "7    20152_SSW_40  nocall\n",
       "8    20152_SSW_45  nocall\n",
       "9    20152_SSW_50  nocall\n",
       "10   20152_SSW_55  nocall\n",
       "11   20152_SSW_60  nocall\n",
       "12   20152_SSW_65  nocall\n",
       "13   20152_SSW_70  nocall\n",
       "14   20152_SSW_75  nocall\n",
       "15   20152_SSW_80  nocall\n",
       "16   20152_SSW_85  nocall\n",
       "17   20152_SSW_90  nocall\n",
       "18   20152_SSW_95  nocall\n",
       "19  20152_SSW_100  nocall\n",
       "20  20152_SSW_105  nocall\n",
       "21  20152_SSW_110  nocall\n",
       "22  20152_SSW_115  nocall\n",
       "23  20152_SSW_120  nocall\n",
       "24  20152_SSW_125  nocall\n",
       "25  20152_SSW_130  nocall\n",
       "26  20152_SSW_135  nocall\n",
       "27  20152_SSW_140  nocall\n",
       "28  20152_SSW_145  nocall\n",
       "29  20152_SSW_150  nocall\n",
       "30  20152_SSW_155  nocall\n",
       "31  20152_SSW_160  nocall\n",
       "32  20152_SSW_165  nocall\n",
       "33  20152_SSW_170  nocall\n",
       "34  20152_SSW_175  nocall\n",
       "35  20152_SSW_180  nocall\n",
       "36  20152_SSW_185  nocall\n",
       "37  20152_SSW_190  nocall\n",
       "38  20152_SSW_195  nocall\n",
       "39  20152_SSW_200  nocall\n",
       "40  20152_SSW_205  nocall\n",
       "41  20152_SSW_210  nocall\n",
       "42  20152_SSW_215  nocall\n",
       "43  20152_SSW_220  nocall\n",
       "44  20152_SSW_225  nocall\n",
       "45  20152_SSW_230  nocall\n",
       "46  20152_SSW_235  nocall\n",
       "47  20152_SSW_240  nocall\n",
       "48  20152_SSW_245  nocall\n",
       "49  20152_SSW_250  nocall"
      ]
     },
     "execution_count": 28,
     "metadata": {},
     "output_type": "execute_result"
    }
   ],
   "source": [
    "sub = preds_as_df(data, preds)\n",
    "print(sub.shape)\n",
    "sub.head(50)"
   ]
  },
  {
   "cell_type": "code",
   "execution_count": 29,
   "id": "excited-dream",
   "metadata": {
    "execution": {
     "iopub.execute_input": "2021-06-02T04:15:43.727959Z",
     "iopub.status.busy": "2021-06-02T04:15:43.727316Z",
     "iopub.status.idle": "2021-06-02T04:15:43.869636Z",
     "shell.execute_reply": "2021-06-02T04:15:43.869151Z",
     "shell.execute_reply.started": "2021-06-02T02:47:26.439409Z"
    },
    "papermill": {
     "duration": 0.184735,
     "end_time": "2021-06-02T04:15:43.869764",
     "exception": false,
     "start_time": "2021-06-02T04:15:43.685029",
     "status": "completed"
    },
    "tags": []
   },
   "outputs": [],
   "source": [
    "sub.to_csv(\"submission.csv\", index=False)"
   ]
  },
  {
   "cell_type": "code",
   "execution_count": null,
   "id": "alpha-walker",
   "metadata": {
    "papermill": {
     "duration": 0.039392,
     "end_time": "2021-06-02T04:15:43.949293",
     "exception": false,
     "start_time": "2021-06-02T04:15:43.909901",
     "status": "completed"
    },
    "tags": []
   },
   "outputs": [],
   "source": []
  },
  {
   "cell_type": "markdown",
   "id": "sensitive-possession",
   "metadata": {
    "papermill": {
     "duration": 0.039391,
     "end_time": "2021-06-02T04:15:44.028021",
     "exception": false,
     "start_time": "2021-06-02T04:15:43.988630",
     "status": "completed"
    },
    "tags": []
   },
   "source": [
    "# Small validation"
   ]
  },
  {
   "cell_type": "code",
   "execution_count": 30,
   "id": "adult-diesel",
   "metadata": {
    "execution": {
     "iopub.execute_input": "2021-06-02T04:15:44.114190Z",
     "iopub.status.busy": "2021-06-02T04:15:44.113291Z",
     "iopub.status.idle": "2021-06-02T04:15:44.116045Z",
     "shell.execute_reply": "2021-06-02T04:15:44.115636Z",
     "shell.execute_reply.started": "2021-06-02T02:47:26.85886Z"
    },
    "papermill": {
     "duration": 0.048192,
     "end_time": "2021-06-02T04:15:44.116154",
     "exception": false,
     "start_time": "2021-06-02T04:15:44.067962",
     "status": "completed"
    },
    "tags": []
   },
   "outputs": [],
   "source": [
    "def get_metrics(s_true, s_pred):\n",
    "    s_true = set(s_true.split())\n",
    "    s_pred = set(s_pred.split())\n",
    "    n, n_true, n_pred = len(s_true.intersection(s_pred)), len(s_true), len(s_pred)\n",
    "    \n",
    "    prec = n/n_pred\n",
    "    rec = n/n_true\n",
    "    f1 = 2*prec*rec/(prec + rec) if prec + rec else 0\n",
    "    \n",
    "    return {\"f1\": f1, \"prec\": prec, \"rec\": rec, \"n_true\": n_true, \"n_pred\": n_pred, \"n\": n}"
   ]
  },
  {
   "cell_type": "code",
   "execution_count": 31,
   "id": "concerned-healing",
   "metadata": {
    "execution": {
     "iopub.execute_input": "2021-06-02T04:15:44.204719Z",
     "iopub.status.busy": "2021-06-02T04:15:44.204219Z",
     "iopub.status.idle": "2021-06-02T04:15:44.368233Z",
     "shell.execute_reply": "2021-06-02T04:15:44.367731Z",
     "shell.execute_reply.started": "2021-06-02T02:47:26.870692Z"
    },
    "papermill": {
     "duration": 0.212323,
     "end_time": "2021-06-02T04:15:44.368364",
     "exception": false,
     "start_time": "2021-06-02T04:15:44.156041",
     "status": "completed"
    },
    "tags": []
   },
   "outputs": [
    {
     "name": "stdout",
     "output_type": "stream",
     "text": [
      "2400 2400\n",
      "f1        0.692153\n",
      "prec      0.706250\n",
      "rec       0.687063\n",
      "n_true    1.130000\n",
      "n_pred    1.012083\n",
      "n         0.712917\n",
      "dtype: float64\n"
     ]
    }
   ],
   "source": [
    "if TARGET_PATH:\n",
    "    sub_target = pd.read_csv(TARGET_PATH)\n",
    "    sub_target = sub_target.merge(sub, how=\"left\", on=\"row_id\")\n",
    "    \n",
    "    print(sub_target[\"birds_x\"].notnull().sum(), sub_target[\"birds_x\"].notnull().sum())\n",
    "    assert sub_target[\"birds_x\"].notnull().all()\n",
    "    assert sub_target[\"birds_y\"].notnull().all()\n",
    "    \n",
    "    df_metrics = pd.DataFrame([get_metrics(s_true, s_pred) for s_true, s_pred in zip(sub_target.birds_x, sub_target.birds_y)])\n",
    "    \n",
    "    print(df_metrics.mean())"
   ]
  },
  {
   "cell_type": "code",
   "execution_count": 32,
   "id": "selected-ground",
   "metadata": {
    "execution": {
     "iopub.execute_input": "2021-06-02T04:15:44.455057Z",
     "iopub.status.busy": "2021-06-02T04:15:44.454295Z",
     "iopub.status.idle": "2021-06-02T04:15:44.468533Z",
     "shell.execute_reply": "2021-06-02T04:15:44.468933Z",
     "shell.execute_reply.started": "2021-06-02T02:47:26.922365Z"
    },
    "papermill": {
     "duration": 0.059045,
     "end_time": "2021-06-02T04:15:44.469056",
     "exception": false,
     "start_time": "2021-06-02T04:15:44.410011",
     "status": "completed"
    },
    "tags": []
   },
   "outputs": [
    {
     "data": {
      "text/html": [
       "<div>\n",
       "<style scoped>\n",
       "    .dataframe tbody tr th:only-of-type {\n",
       "        vertical-align: middle;\n",
       "    }\n",
       "\n",
       "    .dataframe tbody tr th {\n",
       "        vertical-align: top;\n",
       "    }\n",
       "\n",
       "    .dataframe thead th {\n",
       "        text-align: right;\n",
       "    }\n",
       "</style>\n",
       "<table border=\"1\" class=\"dataframe\">\n",
       "  <thead>\n",
       "    <tr style=\"text-align: right;\">\n",
       "      <th></th>\n",
       "      <th>row_id</th>\n",
       "      <th>site</th>\n",
       "      <th>audio_id</th>\n",
       "      <th>seconds</th>\n",
       "      <th>birds_x</th>\n",
       "      <th>birds_y</th>\n",
       "    </tr>\n",
       "  </thead>\n",
       "  <tbody>\n",
       "    <tr>\n",
       "      <th>0</th>\n",
       "      <td>7019_COR_5</td>\n",
       "      <td>COR</td>\n",
       "      <td>7019</td>\n",
       "      <td>5</td>\n",
       "      <td>nocall</td>\n",
       "      <td>nocall</td>\n",
       "    </tr>\n",
       "    <tr>\n",
       "      <th>1</th>\n",
       "      <td>7019_COR_10</td>\n",
       "      <td>COR</td>\n",
       "      <td>7019</td>\n",
       "      <td>10</td>\n",
       "      <td>nocall</td>\n",
       "      <td>nocall</td>\n",
       "    </tr>\n",
       "    <tr>\n",
       "      <th>2</th>\n",
       "      <td>7019_COR_15</td>\n",
       "      <td>COR</td>\n",
       "      <td>7019</td>\n",
       "      <td>15</td>\n",
       "      <td>nocall</td>\n",
       "      <td>nocall</td>\n",
       "    </tr>\n",
       "    <tr>\n",
       "      <th>3</th>\n",
       "      <td>7019_COR_20</td>\n",
       "      <td>COR</td>\n",
       "      <td>7019</td>\n",
       "      <td>20</td>\n",
       "      <td>nocall</td>\n",
       "      <td>nocall</td>\n",
       "    </tr>\n",
       "    <tr>\n",
       "      <th>4</th>\n",
       "      <td>7019_COR_25</td>\n",
       "      <td>COR</td>\n",
       "      <td>7019</td>\n",
       "      <td>25</td>\n",
       "      <td>nocall</td>\n",
       "      <td>bucmot2</td>\n",
       "    </tr>\n",
       "    <tr>\n",
       "      <th>...</th>\n",
       "      <td>...</td>\n",
       "      <td>...</td>\n",
       "      <td>...</td>\n",
       "      <td>...</td>\n",
       "      <td>...</td>\n",
       "      <td>...</td>\n",
       "    </tr>\n",
       "    <tr>\n",
       "      <th>2395</th>\n",
       "      <td>54955_SSW_580</td>\n",
       "      <td>SSW</td>\n",
       "      <td>54955</td>\n",
       "      <td>580</td>\n",
       "      <td>nocall</td>\n",
       "      <td>nocall</td>\n",
       "    </tr>\n",
       "    <tr>\n",
       "      <th>2396</th>\n",
       "      <td>54955_SSW_585</td>\n",
       "      <td>SSW</td>\n",
       "      <td>54955</td>\n",
       "      <td>585</td>\n",
       "      <td>grycat</td>\n",
       "      <td>nocall</td>\n",
       "    </tr>\n",
       "    <tr>\n",
       "      <th>2397</th>\n",
       "      <td>54955_SSW_590</td>\n",
       "      <td>SSW</td>\n",
       "      <td>54955</td>\n",
       "      <td>590</td>\n",
       "      <td>grycat</td>\n",
       "      <td>nocall</td>\n",
       "    </tr>\n",
       "    <tr>\n",
       "      <th>2398</th>\n",
       "      <td>54955_SSW_595</td>\n",
       "      <td>SSW</td>\n",
       "      <td>54955</td>\n",
       "      <td>595</td>\n",
       "      <td>nocall</td>\n",
       "      <td>nocall</td>\n",
       "    </tr>\n",
       "    <tr>\n",
       "      <th>2399</th>\n",
       "      <td>54955_SSW_600</td>\n",
       "      <td>SSW</td>\n",
       "      <td>54955</td>\n",
       "      <td>600</td>\n",
       "      <td>nocall</td>\n",
       "      <td>nocall</td>\n",
       "    </tr>\n",
       "  </tbody>\n",
       "</table>\n",
       "<p>2400 rows × 6 columns</p>\n",
       "</div>"
      ],
      "text/plain": [
       "             row_id site  audio_id  seconds birds_x  birds_y\n",
       "0        7019_COR_5  COR      7019        5  nocall   nocall\n",
       "1       7019_COR_10  COR      7019       10  nocall   nocall\n",
       "2       7019_COR_15  COR      7019       15  nocall   nocall\n",
       "3       7019_COR_20  COR      7019       20  nocall   nocall\n",
       "4       7019_COR_25  COR      7019       25  nocall  bucmot2\n",
       "...             ...  ...       ...      ...     ...      ...\n",
       "2395  54955_SSW_580  SSW     54955      580  nocall   nocall\n",
       "2396  54955_SSW_585  SSW     54955      585  grycat   nocall\n",
       "2397  54955_SSW_590  SSW     54955      590  grycat   nocall\n",
       "2398  54955_SSW_595  SSW     54955      595  nocall   nocall\n",
       "2399  54955_SSW_600  SSW     54955      600  nocall   nocall\n",
       "\n",
       "[2400 rows x 6 columns]"
      ]
     },
     "execution_count": 32,
     "metadata": {},
     "output_type": "execute_result"
    }
   ],
   "source": [
    "##### sub_target[sub_target.birds_y != \"nocall\"]\n",
    "sub_target[sub_target.birds_y != \"-\"]"
   ]
  },
  {
   "cell_type": "code",
   "execution_count": 33,
   "id": "rational-verse",
   "metadata": {
    "execution": {
     "iopub.execute_input": "2021-06-02T04:15:44.558987Z",
     "iopub.status.busy": "2021-06-02T04:15:44.558221Z",
     "iopub.status.idle": "2021-06-02T04:15:44.565126Z",
     "shell.execute_reply": "2021-06-02T04:15:44.564707Z",
     "shell.execute_reply.started": "2021-06-02T02:47:26.947957Z"
    },
    "papermill": {
     "duration": 0.056318,
     "end_time": "2021-06-02T04:15:44.565226",
     "exception": false,
     "start_time": "2021-06-02T04:15:44.508908",
     "status": "completed"
    },
    "tags": []
   },
   "outputs": [
    {
     "name": "stdout",
     "output_type": "stream",
     "text": [
      "nocallを当てた割合 :  0.9221713538260301\n",
      "誤ってnocallと推定した割合 :  0.563719862227325\n"
     ]
    }
   ],
   "source": [
    "sub_target['flag_nocall'] = (sub_target['birds_x'] == sub_target['birds_y'])\n",
    "sub_target['flag_nocall'] = sub_target['flag_nocall'].apply(lambda x: 1 if x == True else 0)\n",
    "xx = sub_target[sub_target.birds_x == \"nocall\"]\n",
    "yy = sub_target[sub_target.birds_x != \"nocall\"]\n",
    "rate = xx['flag_nocall'].sum()/len(xx)\n",
    "bad_rate = len(yy[yy['birds_y']=='nocall'])/len(yy)\n",
    "print('nocallを当てた割合 : ', rate)\n",
    "print('誤ってnocallと推定した割合 : ', bad_rate)"
   ]
  },
  {
   "cell_type": "code",
   "execution_count": 34,
   "id": "preliminary-netscape",
   "metadata": {
    "execution": {
     "iopub.execute_input": "2021-06-02T04:15:44.661807Z",
     "iopub.status.busy": "2021-06-02T04:15:44.660948Z",
     "iopub.status.idle": "2021-06-02T04:15:44.665223Z",
     "shell.execute_reply": "2021-06-02T04:15:44.664793Z",
     "shell.execute_reply.started": "2021-06-02T02:47:26.967004Z"
    },
    "papermill": {
     "duration": 0.059808,
     "end_time": "2021-06-02T04:15:44.665322",
     "exception": false,
     "start_time": "2021-06-02T04:15:44.605514",
     "status": "completed"
    },
    "tags": []
   },
   "outputs": [
    {
     "data": {
      "text/html": [
       "<div>\n",
       "<style scoped>\n",
       "    .dataframe tbody tr th:only-of-type {\n",
       "        vertical-align: middle;\n",
       "    }\n",
       "\n",
       "    .dataframe tbody tr th {\n",
       "        vertical-align: top;\n",
       "    }\n",
       "\n",
       "    .dataframe thead th {\n",
       "        text-align: right;\n",
       "    }\n",
       "</style>\n",
       "<table border=\"1\" class=\"dataframe\">\n",
       "  <thead>\n",
       "    <tr style=\"text-align: right;\">\n",
       "      <th></th>\n",
       "      <th>row_id</th>\n",
       "      <th>site</th>\n",
       "      <th>audio_id</th>\n",
       "      <th>seconds</th>\n",
       "      <th>birds_x</th>\n",
       "      <th>birds_y</th>\n",
       "      <th>flag_nocall</th>\n",
       "    </tr>\n",
       "  </thead>\n",
       "  <tbody>\n",
       "    <tr>\n",
       "      <th>240</th>\n",
       "      <td>11254_COR_5</td>\n",
       "      <td>COR</td>\n",
       "      <td>11254</td>\n",
       "      <td>5</td>\n",
       "      <td>rubwre1</td>\n",
       "      <td>nocall</td>\n",
       "      <td>0</td>\n",
       "    </tr>\n",
       "    <tr>\n",
       "      <th>268</th>\n",
       "      <td>11254_COR_145</td>\n",
       "      <td>COR</td>\n",
       "      <td>11254</td>\n",
       "      <td>145</td>\n",
       "      <td>obnthr1</td>\n",
       "      <td>nocall</td>\n",
       "      <td>0</td>\n",
       "    </tr>\n",
       "    <tr>\n",
       "      <th>269</th>\n",
       "      <td>11254_COR_150</td>\n",
       "      <td>COR</td>\n",
       "      <td>11254</td>\n",
       "      <td>150</td>\n",
       "      <td>obnthr1</td>\n",
       "      <td>nocall</td>\n",
       "      <td>0</td>\n",
       "    </tr>\n",
       "    <tr>\n",
       "      <th>293</th>\n",
       "      <td>11254_COR_270</td>\n",
       "      <td>COR</td>\n",
       "      <td>11254</td>\n",
       "      <td>270</td>\n",
       "      <td>brnjay</td>\n",
       "      <td>nocall</td>\n",
       "      <td>0</td>\n",
       "    </tr>\n",
       "    <tr>\n",
       "      <th>360</th>\n",
       "      <td>18003_COR_5</td>\n",
       "      <td>COR</td>\n",
       "      <td>18003</td>\n",
       "      <td>5</td>\n",
       "      <td>rucwar</td>\n",
       "      <td>nocall</td>\n",
       "      <td>0</td>\n",
       "    </tr>\n",
       "    <tr>\n",
       "      <th>...</th>\n",
       "      <td>...</td>\n",
       "      <td>...</td>\n",
       "      <td>...</td>\n",
       "      <td>...</td>\n",
       "      <td>...</td>\n",
       "      <td>...</td>\n",
       "      <td>...</td>\n",
       "    </tr>\n",
       "    <tr>\n",
       "      <th>2391</th>\n",
       "      <td>54955_SSW_560</td>\n",
       "      <td>SSW</td>\n",
       "      <td>54955</td>\n",
       "      <td>560</td>\n",
       "      <td>grycat</td>\n",
       "      <td>nocall</td>\n",
       "      <td>0</td>\n",
       "    </tr>\n",
       "    <tr>\n",
       "      <th>2393</th>\n",
       "      <td>54955_SSW_570</td>\n",
       "      <td>SSW</td>\n",
       "      <td>54955</td>\n",
       "      <td>570</td>\n",
       "      <td>grycat</td>\n",
       "      <td>nocall</td>\n",
       "      <td>0</td>\n",
       "    </tr>\n",
       "    <tr>\n",
       "      <th>2394</th>\n",
       "      <td>54955_SSW_575</td>\n",
       "      <td>SSW</td>\n",
       "      <td>54955</td>\n",
       "      <td>575</td>\n",
       "      <td>chswar</td>\n",
       "      <td>nocall</td>\n",
       "      <td>0</td>\n",
       "    </tr>\n",
       "    <tr>\n",
       "      <th>2396</th>\n",
       "      <td>54955_SSW_585</td>\n",
       "      <td>SSW</td>\n",
       "      <td>54955</td>\n",
       "      <td>585</td>\n",
       "      <td>grycat</td>\n",
       "      <td>nocall</td>\n",
       "      <td>0</td>\n",
       "    </tr>\n",
       "    <tr>\n",
       "      <th>2397</th>\n",
       "      <td>54955_SSW_590</td>\n",
       "      <td>SSW</td>\n",
       "      <td>54955</td>\n",
       "      <td>590</td>\n",
       "      <td>grycat</td>\n",
       "      <td>nocall</td>\n",
       "      <td>0</td>\n",
       "    </tr>\n",
       "  </tbody>\n",
       "</table>\n",
       "<p>491 rows × 7 columns</p>\n",
       "</div>"
      ],
      "text/plain": [
       "             row_id site  audio_id  seconds  birds_x birds_y  flag_nocall\n",
       "240     11254_COR_5  COR     11254        5  rubwre1  nocall            0\n",
       "268   11254_COR_145  COR     11254      145  obnthr1  nocall            0\n",
       "269   11254_COR_150  COR     11254      150  obnthr1  nocall            0\n",
       "293   11254_COR_270  COR     11254      270   brnjay  nocall            0\n",
       "360     18003_COR_5  COR     18003        5   rucwar  nocall            0\n",
       "...             ...  ...       ...      ...      ...     ...          ...\n",
       "2391  54955_SSW_560  SSW     54955      560   grycat  nocall            0\n",
       "2393  54955_SSW_570  SSW     54955      570   grycat  nocall            0\n",
       "2394  54955_SSW_575  SSW     54955      575   chswar  nocall            0\n",
       "2396  54955_SSW_585  SSW     54955      585   grycat  nocall            0\n",
       "2397  54955_SSW_590  SSW     54955      590   grycat  nocall            0\n",
       "\n",
       "[491 rows x 7 columns]"
      ]
     },
     "execution_count": 34,
     "metadata": {},
     "output_type": "execute_result"
    }
   ],
   "source": [
    "\n",
    "yy[yy['birds_y']=='nocall']"
   ]
  },
  {
   "cell_type": "code",
   "execution_count": 35,
   "id": "opponent-edwards",
   "metadata": {
    "execution": {
     "iopub.execute_input": "2021-06-02T04:15:44.751073Z",
     "iopub.status.busy": "2021-06-02T04:15:44.750261Z",
     "iopub.status.idle": "2021-06-02T04:15:44.765268Z",
     "shell.execute_reply": "2021-06-02T04:15:44.764783Z",
     "shell.execute_reply.started": "2021-06-02T02:47:26.996335Z"
    },
    "papermill": {
     "duration": 0.059401,
     "end_time": "2021-06-02T04:15:44.765367",
     "exception": false,
     "start_time": "2021-06-02T04:15:44.705966",
     "status": "completed"
    },
    "tags": []
   },
   "outputs": [
    {
     "data": {
      "text/html": [
       "<div>\n",
       "<style scoped>\n",
       "    .dataframe tbody tr th:only-of-type {\n",
       "        vertical-align: middle;\n",
       "    }\n",
       "\n",
       "    .dataframe tbody tr th {\n",
       "        vertical-align: top;\n",
       "    }\n",
       "\n",
       "    .dataframe thead th {\n",
       "        text-align: right;\n",
       "    }\n",
       "</style>\n",
       "<table border=\"1\" class=\"dataframe\">\n",
       "  <thead>\n",
       "    <tr style=\"text-align: right;\">\n",
       "      <th></th>\n",
       "      <th>row_id</th>\n",
       "      <th>site</th>\n",
       "      <th>audio_id</th>\n",
       "      <th>seconds</th>\n",
       "      <th>birds_x</th>\n",
       "      <th>birds_y</th>\n",
       "      <th>flag_nocall</th>\n",
       "    </tr>\n",
       "  </thead>\n",
       "  <tbody>\n",
       "    <tr>\n",
       "      <th>240</th>\n",
       "      <td>11254_COR_5</td>\n",
       "      <td>COR</td>\n",
       "      <td>11254</td>\n",
       "      <td>5</td>\n",
       "      <td>rubwre1</td>\n",
       "      <td>nocall</td>\n",
       "      <td>0</td>\n",
       "    </tr>\n",
       "    <tr>\n",
       "      <th>242</th>\n",
       "      <td>11254_COR_15</td>\n",
       "      <td>COR</td>\n",
       "      <td>11254</td>\n",
       "      <td>15</td>\n",
       "      <td>rubwre1</td>\n",
       "      <td>wbwwre1</td>\n",
       "      <td>0</td>\n",
       "    </tr>\n",
       "    <tr>\n",
       "      <th>244</th>\n",
       "      <td>11254_COR_25</td>\n",
       "      <td>COR</td>\n",
       "      <td>11254</td>\n",
       "      <td>25</td>\n",
       "      <td>rubwre1</td>\n",
       "      <td>rubwre1</td>\n",
       "      <td>1</td>\n",
       "    </tr>\n",
       "    <tr>\n",
       "      <th>267</th>\n",
       "      <td>11254_COR_140</td>\n",
       "      <td>COR</td>\n",
       "      <td>11254</td>\n",
       "      <td>140</td>\n",
       "      <td>obnthr1</td>\n",
       "      <td>obnthr1</td>\n",
       "      <td>1</td>\n",
       "    </tr>\n",
       "    <tr>\n",
       "      <th>268</th>\n",
       "      <td>11254_COR_145</td>\n",
       "      <td>COR</td>\n",
       "      <td>11254</td>\n",
       "      <td>145</td>\n",
       "      <td>obnthr1</td>\n",
       "      <td>nocall</td>\n",
       "      <td>0</td>\n",
       "    </tr>\n",
       "    <tr>\n",
       "      <th>...</th>\n",
       "      <td>...</td>\n",
       "      <td>...</td>\n",
       "      <td>...</td>\n",
       "      <td>...</td>\n",
       "      <td>...</td>\n",
       "      <td>...</td>\n",
       "      <td>...</td>\n",
       "    </tr>\n",
       "    <tr>\n",
       "      <th>2391</th>\n",
       "      <td>54955_SSW_560</td>\n",
       "      <td>SSW</td>\n",
       "      <td>54955</td>\n",
       "      <td>560</td>\n",
       "      <td>grycat</td>\n",
       "      <td>nocall</td>\n",
       "      <td>0</td>\n",
       "    </tr>\n",
       "    <tr>\n",
       "      <th>2393</th>\n",
       "      <td>54955_SSW_570</td>\n",
       "      <td>SSW</td>\n",
       "      <td>54955</td>\n",
       "      <td>570</td>\n",
       "      <td>grycat</td>\n",
       "      <td>nocall</td>\n",
       "      <td>0</td>\n",
       "    </tr>\n",
       "    <tr>\n",
       "      <th>2394</th>\n",
       "      <td>54955_SSW_575</td>\n",
       "      <td>SSW</td>\n",
       "      <td>54955</td>\n",
       "      <td>575</td>\n",
       "      <td>chswar</td>\n",
       "      <td>nocall</td>\n",
       "      <td>0</td>\n",
       "    </tr>\n",
       "    <tr>\n",
       "      <th>2396</th>\n",
       "      <td>54955_SSW_585</td>\n",
       "      <td>SSW</td>\n",
       "      <td>54955</td>\n",
       "      <td>585</td>\n",
       "      <td>grycat</td>\n",
       "      <td>nocall</td>\n",
       "      <td>0</td>\n",
       "    </tr>\n",
       "    <tr>\n",
       "      <th>2397</th>\n",
       "      <td>54955_SSW_590</td>\n",
       "      <td>SSW</td>\n",
       "      <td>54955</td>\n",
       "      <td>590</td>\n",
       "      <td>grycat</td>\n",
       "      <td>nocall</td>\n",
       "      <td>0</td>\n",
       "    </tr>\n",
       "  </tbody>\n",
       "</table>\n",
       "<p>871 rows × 7 columns</p>\n",
       "</div>"
      ],
      "text/plain": [
       "             row_id site  audio_id  seconds  birds_x  birds_y  flag_nocall\n",
       "240     11254_COR_5  COR     11254        5  rubwre1   nocall            0\n",
       "242    11254_COR_15  COR     11254       15  rubwre1  wbwwre1            0\n",
       "244    11254_COR_25  COR     11254       25  rubwre1  rubwre1            1\n",
       "267   11254_COR_140  COR     11254      140  obnthr1  obnthr1            1\n",
       "268   11254_COR_145  COR     11254      145  obnthr1   nocall            0\n",
       "...             ...  ...       ...      ...      ...      ...          ...\n",
       "2391  54955_SSW_560  SSW     54955      560   grycat   nocall            0\n",
       "2393  54955_SSW_570  SSW     54955      570   grycat   nocall            0\n",
       "2394  54955_SSW_575  SSW     54955      575   chswar   nocall            0\n",
       "2396  54955_SSW_585  SSW     54955      585   grycat   nocall            0\n",
       "2397  54955_SSW_590  SSW     54955      590   grycat   nocall            0\n",
       "\n",
       "[871 rows x 7 columns]"
      ]
     },
     "execution_count": 35,
     "metadata": {},
     "output_type": "execute_result"
    }
   ],
   "source": [
    "sub_target[sub_target.birds_x != \"nocall\"]"
   ]
  },
  {
   "cell_type": "code",
   "execution_count": 36,
   "id": "ambient-listening",
   "metadata": {
    "execution": {
     "iopub.execute_input": "2021-06-02T04:15:44.856140Z",
     "iopub.status.busy": "2021-06-02T04:15:44.855435Z",
     "iopub.status.idle": "2021-06-02T04:15:44.881525Z",
     "shell.execute_reply": "2021-06-02T04:15:44.881096Z",
     "shell.execute_reply.started": "2021-06-02T02:47:27.021485Z"
    },
    "papermill": {
     "duration": 0.071994,
     "end_time": "2021-06-02T04:15:44.881642",
     "exception": false,
     "start_time": "2021-06-02T04:15:44.809648",
     "status": "completed"
    },
    "tags": []
   },
   "outputs": [
    {
     "data": {
      "text/plain": [
       "tensor([[0.0070, 0.0072, 0.0170,  ..., 0.0107, 0.0034, 0.0027],\n",
       "        [0.0066, 0.0078, 0.0167,  ..., 0.0120, 0.0030, 0.0029],\n",
       "        [0.0074, 0.0058, 0.0156,  ..., 0.0141, 0.0035, 0.0031],\n",
       "        ...,\n",
       "        [0.0058, 0.0046, 0.0083,  ..., 0.0072, 0.0025, 0.0032],\n",
       "        [0.0062, 0.0051, 0.0092,  ..., 0.0081, 0.0028, 0.0028],\n",
       "        [0.0062, 0.0057, 0.0099,  ..., 0.0090, 0.0023, 0.0035]],\n",
       "       device='cuda:0')"
      ]
     },
     "execution_count": 36,
     "metadata": {},
     "output_type": "execute_result"
    }
   ],
   "source": [
    "(pred_probas[0])"
   ]
  },
  {
   "cell_type": "code",
   "execution_count": null,
   "id": "shared-bosnia",
   "metadata": {
    "papermill": {
     "duration": 0.042015,
     "end_time": "2021-06-02T04:15:44.965272",
     "exception": false,
     "start_time": "2021-06-02T04:15:44.923257",
     "status": "completed"
    },
    "tags": []
   },
   "outputs": [],
   "source": []
  },
  {
   "cell_type": "code",
   "execution_count": null,
   "id": "military-shannon",
   "metadata": {
    "papermill": {
     "duration": 0.043022,
     "end_time": "2021-06-02T04:15:45.049975",
     "exception": false,
     "start_time": "2021-06-02T04:15:45.006953",
     "status": "completed"
    },
    "tags": []
   },
   "outputs": [],
   "source": []
  }
 ],
 "metadata": {
  "kernelspec": {
   "display_name": "Python 3",
   "language": "python",
   "name": "python3"
  },
  "language_info": {
   "codemirror_mode": {
    "name": "ipython",
    "version": 3
   },
   "file_extension": ".py",
   "mimetype": "text/x-python",
   "name": "python",
   "nbconvert_exporter": "python",
   "pygments_lexer": "ipython3",
   "version": "3.7.9"
  },
  "papermill": {
   "default_parameters": {},
   "duration": 186.120609,
   "end_time": "2021-06-02T04:15:46.229435",
   "environment_variables": {},
   "exception": null,
   "input_path": "__notebook__.ipynb",
   "output_path": "__notebook__.ipynb",
   "parameters": {},
   "start_time": "2021-06-02T04:12:40.108826",
   "version": "2.3.2"
  },
  "widgets": {
   "application/vnd.jupyter.widget-state+json": {
    "state": {
     "0b84a776b7314f6e8005f104ad5166b2": {
      "model_module": "@jupyter-widgets/controls",
      "model_module_version": "1.5.0",
      "model_name": "FloatProgressModel",
      "state": {
       "_dom_classes": [],
       "_model_module": "@jupyter-widgets/controls",
       "_model_module_version": "1.5.0",
       "_model_name": "FloatProgressModel",
       "_view_count": null,
       "_view_module": "@jupyter-widgets/controls",
       "_view_module_version": "1.5.0",
       "_view_name": "ProgressView",
       "bar_style": "success",
       "description": "",
       "description_tooltip": null,
       "layout": "IPY_MODEL_970c2599c6f045f68472527bb727ac84",
       "max": 20,
       "min": 0,
       "orientation": "horizontal",
       "style": "IPY_MODEL_50d6ac92a7cd4a87a2f492850bccf69e",
       "value": 20
      }
     },
     "0c716705374e458cb99096c4856fce8c": {
      "model_module": "@jupyter-widgets/base",
      "model_module_version": "1.2.0",
      "model_name": "LayoutModel",
      "state": {
       "_model_module": "@jupyter-widgets/base",
       "_model_module_version": "1.2.0",
       "_model_name": "LayoutModel",
       "_view_count": null,
       "_view_module": "@jupyter-widgets/base",
       "_view_module_version": "1.2.0",
       "_view_name": "LayoutView",
       "align_content": null,
       "align_items": null,
       "align_self": null,
       "border": null,
       "bottom": null,
       "display": null,
       "flex": null,
       "flex_flow": null,
       "grid_area": null,
       "grid_auto_columns": null,
       "grid_auto_flow": null,
       "grid_auto_rows": null,
       "grid_column": null,
       "grid_gap": null,
       "grid_row": null,
       "grid_template_areas": null,
       "grid_template_columns": null,
       "grid_template_rows": null,
       "height": null,
       "justify_content": null,
       "justify_items": null,
       "left": null,
       "margin": null,
       "max_height": null,
       "max_width": null,
       "min_height": null,
       "min_width": null,
       "object_fit": null,
       "object_position": null,
       "order": null,
       "overflow": null,
       "overflow_x": null,
       "overflow_y": null,
       "padding": null,
       "right": null,
       "top": null,
       "visibility": null,
       "width": null
      }
     },
     "41611febedd94fdebfd8d0d5c7aea096": {
      "model_module": "@jupyter-widgets/controls",
      "model_module_version": "1.5.0",
      "model_name": "HTMLModel",
      "state": {
       "_dom_classes": [],
       "_model_module": "@jupyter-widgets/controls",
       "_model_module_version": "1.5.0",
       "_model_name": "HTMLModel",
       "_view_count": null,
       "_view_module": "@jupyter-widgets/controls",
       "_view_module_version": "1.5.0",
       "_view_name": "HTMLView",
       "description": "",
       "description_tooltip": null,
       "layout": "IPY_MODEL_0c716705374e458cb99096c4856fce8c",
       "placeholder": "​",
       "style": "IPY_MODEL_7574535a7c7f48c2827fef41a7655db4",
       "value": " 20/20 [01:31&lt;00:00,  4.55s/it]"
      }
     },
     "50d6ac92a7cd4a87a2f492850bccf69e": {
      "model_module": "@jupyter-widgets/controls",
      "model_module_version": "1.5.0",
      "model_name": "ProgressStyleModel",
      "state": {
       "_model_module": "@jupyter-widgets/controls",
       "_model_module_version": "1.5.0",
       "_model_name": "ProgressStyleModel",
       "_view_count": null,
       "_view_module": "@jupyter-widgets/base",
       "_view_module_version": "1.2.0",
       "_view_name": "StyleView",
       "bar_color": null,
       "description_width": ""
      }
     },
     "67b50546e39e482f80b6a2aedc51a6ec": {
      "model_module": "@jupyter-widgets/base",
      "model_module_version": "1.2.0",
      "model_name": "LayoutModel",
      "state": {
       "_model_module": "@jupyter-widgets/base",
       "_model_module_version": "1.2.0",
       "_model_name": "LayoutModel",
       "_view_count": null,
       "_view_module": "@jupyter-widgets/base",
       "_view_module_version": "1.2.0",
       "_view_name": "LayoutView",
       "align_content": null,
       "align_items": null,
       "align_self": null,
       "border": null,
       "bottom": null,
       "display": null,
       "flex": null,
       "flex_flow": null,
       "grid_area": null,
       "grid_auto_columns": null,
       "grid_auto_flow": null,
       "grid_auto_rows": null,
       "grid_column": null,
       "grid_gap": null,
       "grid_row": null,
       "grid_template_areas": null,
       "grid_template_columns": null,
       "grid_template_rows": null,
       "height": null,
       "justify_content": null,
       "justify_items": null,
       "left": null,
       "margin": null,
       "max_height": null,
       "max_width": null,
       "min_height": null,
       "min_width": null,
       "object_fit": null,
       "object_position": null,
       "order": null,
       "overflow": null,
       "overflow_x": null,
       "overflow_y": null,
       "padding": null,
       "right": null,
       "top": null,
       "visibility": null,
       "width": null
      }
     },
     "74c13a6330e84369a060f1f3065b021c": {
      "model_module": "@jupyter-widgets/controls",
      "model_module_version": "1.5.0",
      "model_name": "DescriptionStyleModel",
      "state": {
       "_model_module": "@jupyter-widgets/controls",
       "_model_module_version": "1.5.0",
       "_model_name": "DescriptionStyleModel",
       "_view_count": null,
       "_view_module": "@jupyter-widgets/base",
       "_view_module_version": "1.2.0",
       "_view_name": "StyleView",
       "description_width": ""
      }
     },
     "7574535a7c7f48c2827fef41a7655db4": {
      "model_module": "@jupyter-widgets/controls",
      "model_module_version": "1.5.0",
      "model_name": "DescriptionStyleModel",
      "state": {
       "_model_module": "@jupyter-widgets/controls",
       "_model_module_version": "1.5.0",
       "_model_name": "DescriptionStyleModel",
       "_view_count": null,
       "_view_module": "@jupyter-widgets/base",
       "_view_module_version": "1.2.0",
       "_view_name": "StyleView",
       "description_width": ""
      }
     },
     "89381022d0124ce9b7405ea076830612": {
      "model_module": "@jupyter-widgets/base",
      "model_module_version": "1.2.0",
      "model_name": "LayoutModel",
      "state": {
       "_model_module": "@jupyter-widgets/base",
       "_model_module_version": "1.2.0",
       "_model_name": "LayoutModel",
       "_view_count": null,
       "_view_module": "@jupyter-widgets/base",
       "_view_module_version": "1.2.0",
       "_view_name": "LayoutView",
       "align_content": null,
       "align_items": null,
       "align_self": null,
       "border": null,
       "bottom": null,
       "display": null,
       "flex": null,
       "flex_flow": null,
       "grid_area": null,
       "grid_auto_columns": null,
       "grid_auto_flow": null,
       "grid_auto_rows": null,
       "grid_column": null,
       "grid_gap": null,
       "grid_row": null,
       "grid_template_areas": null,
       "grid_template_columns": null,
       "grid_template_rows": null,
       "height": null,
       "justify_content": null,
       "justify_items": null,
       "left": null,
       "margin": null,
       "max_height": null,
       "max_width": null,
       "min_height": null,
       "min_width": null,
       "object_fit": null,
       "object_position": null,
       "order": null,
       "overflow": null,
       "overflow_x": null,
       "overflow_y": null,
       "padding": null,
       "right": null,
       "top": null,
       "visibility": null,
       "width": null
      }
     },
     "8a89c456916e476ebc432716937808f6": {
      "model_module": "@jupyter-widgets/controls",
      "model_module_version": "1.5.0",
      "model_name": "HBoxModel",
      "state": {
       "_dom_classes": [],
       "_model_module": "@jupyter-widgets/controls",
       "_model_module_version": "1.5.0",
       "_model_name": "HBoxModel",
       "_view_count": null,
       "_view_module": "@jupyter-widgets/controls",
       "_view_module_version": "1.5.0",
       "_view_name": "HBoxView",
       "box_style": "",
       "children": [
        "IPY_MODEL_c4fcd6d2f6714a889fd65a5d4f129133",
        "IPY_MODEL_0b84a776b7314f6e8005f104ad5166b2",
        "IPY_MODEL_41611febedd94fdebfd8d0d5c7aea096"
       ],
       "layout": "IPY_MODEL_67b50546e39e482f80b6a2aedc51a6ec"
      }
     },
     "970c2599c6f045f68472527bb727ac84": {
      "model_module": "@jupyter-widgets/base",
      "model_module_version": "1.2.0",
      "model_name": "LayoutModel",
      "state": {
       "_model_module": "@jupyter-widgets/base",
       "_model_module_version": "1.2.0",
       "_model_name": "LayoutModel",
       "_view_count": null,
       "_view_module": "@jupyter-widgets/base",
       "_view_module_version": "1.2.0",
       "_view_name": "LayoutView",
       "align_content": null,
       "align_items": null,
       "align_self": null,
       "border": null,
       "bottom": null,
       "display": null,
       "flex": null,
       "flex_flow": null,
       "grid_area": null,
       "grid_auto_columns": null,
       "grid_auto_flow": null,
       "grid_auto_rows": null,
       "grid_column": null,
       "grid_gap": null,
       "grid_row": null,
       "grid_template_areas": null,
       "grid_template_columns": null,
       "grid_template_rows": null,
       "height": null,
       "justify_content": null,
       "justify_items": null,
       "left": null,
       "margin": null,
       "max_height": null,
       "max_width": null,
       "min_height": null,
       "min_width": null,
       "object_fit": null,
       "object_position": null,
       "order": null,
       "overflow": null,
       "overflow_x": null,
       "overflow_y": null,
       "padding": null,
       "right": null,
       "top": null,
       "visibility": null,
       "width": null
      }
     },
     "c4fcd6d2f6714a889fd65a5d4f129133": {
      "model_module": "@jupyter-widgets/controls",
      "model_module_version": "1.5.0",
      "model_name": "HTMLModel",
      "state": {
       "_dom_classes": [],
       "_model_module": "@jupyter-widgets/controls",
       "_model_module_version": "1.5.0",
       "_model_name": "HTMLModel",
       "_view_count": null,
       "_view_module": "@jupyter-widgets/controls",
       "_view_module_version": "1.5.0",
       "_view_name": "HTMLView",
       "description": "",
       "description_tooltip": null,
       "layout": "IPY_MODEL_89381022d0124ce9b7405ea076830612",
       "placeholder": "​",
       "style": "IPY_MODEL_74c13a6330e84369a060f1f3065b021c",
       "value": "100%"
      }
     }
    },
    "version_major": 2,
    "version_minor": 0
   }
  }
 },
 "nbformat": 4,
 "nbformat_minor": 5
}
